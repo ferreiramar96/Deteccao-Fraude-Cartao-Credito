{
  "nbformat": 4,
  "nbformat_minor": 0,
  "metadata": {
    "colab": {
      "provenance": [],
      "include_colab_link": true
    },
    "kernelspec": {
      "name": "python3",
      "display_name": "Python 3"
    }
  },
  "cells": [
    {
      "cell_type": "markdown",
      "metadata": {
        "id": "view-in-github",
        "colab_type": "text"
      },
      "source": [
        "<a href=\"https://colab.research.google.com/github/ferreiramar96/Deteccao-Fraude-Cartao-Credito/blob/main/Detec%C3%A7%C3%A3o_de_Fraude_em_Cart%C3%B5es_de_Cr%C3%A9dito.ipynb\" target=\"_parent\"><img src=\"https://colab.research.google.com/assets/colab-badge.svg\" alt=\"Open In Colab\"/></a>"
      ]
    },
    {
      "cell_type": "markdown",
      "metadata": {
        "id": "IR56trFcPcC1"
      },
      "source": [
        "# Detecção de Fraudes em Cartões de Crédito\n",
        "\n",
        "Neste projeto, iremos abordar o problema das fraudes em cartões de crédito, uma das principais preocupações das instituições financeiras como bancos e *fintechs*. Apenas no Brasil, cerca de 12,1 milhões de pessoas já foram vítimas de algum tipo de fraude financeira no último ano. Traduzindo em valores, os golpes financeiros ultrapassaram a cifra de R$ 1,8 bilhão de prejuízo por ano para os últimos 12 meses.\n",
        "\n",
        "Com o avanço tecnológico e o aumento do comércio eletrônico, os cartões de crédito se tornaram uma forma comum de pagamento em todo o mundo. No entanto, esse cenário também abriu portas para fraudadores que buscam explorar as vulnerabilidades do sistema. A detecção eficiente de fraudes em tempo real tornou-se uma necessidade absoluta para proteger os consumidores e as instituições financeiras.\n",
        "\n",
        "\n",
        "<p align=center>\n",
        "<img src=\"https://github.com/ferreiramar96/Deteccao-Fraude-Cartao-Credito/blob/main/fraud.png?raw=true\" width=\"88%\"></p>\n",
        "\n",
        "Dentra essas fraudes, aquelas envolvendo cartões de crédito são de grande relevância uma vez que a sua não-detecção acaretará em prejuízos consideráveis, tanto para o consumidor quanto para a instituição financeira.\n",
        "\n",
        "Um outro fator a ser considerado é a quantidade de falsos positivos, ou seja, aquelas vezes em que você tentou fazer uma compra e teve seu cartão bloqueado preventivamente - o que provavelmente gerou estresse e constrangimento.\n",
        "\n",
        "Por todos esses motivos, o investimento na área de detecção de fraudes por meio de Inteligência Artificial vem crescendo a cada ano, representando uma grande oportunidade em *Data Science*.\n",
        "\n",
        "Dispondo de grandes volumes de dados como base histórica, um algoritmo de machine learning apenas um pouco melhor que os anteriores já representa uma economia de milhões de Reais. E esse é o desafio, aprimorar cada vez mais o uso de algoritmos visando inibir ou evitar transações fraudulentas."
      ]
    },
    {
      "cell_type": "markdown",
      "source": [
        "## Objetivo do Projeto\n",
        "O objetivo principal do projeto é desenvolver modelos preditivos precisos e confiáveis que possam distinguir entre transações legítimas e fraudulentas. Para isso, exploraremos algoritmos de Machine Learning, como Regressão Logística e Árvores de Decisão, que nos ajudarão a aprender padrões ocultos e a tomar decisões informadas com base nos dados disponíveis.\n",
        "\n",
        "Mas é claro que para antes de chegarmos na parte de construir um modelo, teremos de fazer algumas análises, tais como: Verificar se existem dados faltantes, ver correlações de variáveis, fazer uma descrição estatística, plotar alguns histogramas, ver o balanceamento de classes, padronizar. Fazer todo um Pré-Processamento, e a partir daí será possível começar a construir e comparar modelos de Machine Learning, para ver qual se adapta melhor ao problema.\n",
        "\n",
        "<p align=\"center\">\n",
        "<img src=\"https://raw.githubusercontent.com/ferreiramar96/Deteccao-Fraude-Cartao-Credito/main/Data_security_11.jpg\" width=\"50%\">\n",
        "</p>\n",
        "\n",
        "Levando em consideração todos esses pontos acima, podemos então começar nosso projeto, sendo o primeiro ponto a importação dos nossos dados, mas antes de importa-los irei dar uma breve explicaçao sobre eles e aprensentar de onde foram tirados."
      ],
      "metadata": {
        "id": "EO7B_8w5E7A7"
      }
    },
    {
      "cell_type": "markdown",
      "metadata": {
        "id": "0HVmpIxQWT4Y"
      },
      "source": [
        "## Importando os Dados\n",
        "\n",
        "Os dados que usaremos neste projeto foram disponibilizados por algumas empresas européias de cartão de crédito. O *dataset* representa as operações financeiras que aconteceram no período de dois dias, onde foram classificadas 492 fraudes em meio a quase 290 mil transações.\n",
        "\n",
        "Como você pode notar, este é um conjunto de dados extremamente desbalanceado, onde as fraudes representam apenas 0,17% do total.\n",
        "\n",
        "Outro detalhe interessante é que as *features* são todas numéricas, e foram descaracterizadas (por problemas ligados à privacidade e segurança). Assim, os nomes das colunas são representados por $[V1, V2, V3 \\dots, V28]$\n",
        "\n",
        "<p align=center>\n",
        "<img src=\"https://images.unsplash.com/photo-1620714223084-8fcacc6dfd8d?ixid=MnwxMjA3fDB8MHxwaG90by1wYWdlfHx8fGVufDB8fHx8&ixlib=rb-1.2.1&auto=format&fit=crop&w=1051&q=80\" width=\"50%\"></p>\n",
        "\n",
        "[Na página original dos dados](https://www.kaggle.com/mlg-ulb/creditcardfraud), também é informado que as variáveis passaram por uma transformação conhecida como Análise de Componentes Principais (*Principal Component Analysis* - PCA).\n",
        "\n",
        "A PCA permite a redução da dimensionalidade enquanto mantém o maior número possível de informações. Para conseguir isso, o algoritmo encontra um conjunto novo de recursos - os chamados **componentes**.\n",
        "\n",
        "Esses componentes são em número menor or igual às variáveis originais. No caso deste projeto, os componentes achados pela transformação da PCA são as próprias colunas $[V1, V2, V3 \\dots, V28]$."
      ]
    },
    {
      "cell_type": "code",
      "metadata": {
        "id": "oQ4bNy7udtEE"
      },
      "source": [
        "# importar os pacotes necessários\n",
        "import pandas as pd\n",
        "import numpy as np\n",
        "import matplotlib.pyplot as plt\n",
        "import seaborn as sns\n",
        "\n",
        "from sklearn.preprocessing import StandardScaler\n",
        "from sklearn.metrics import roc_auc_score, roc_curve, classification_report, accuracy_score\n",
        "from sklearn.metrics import confusion_matrix\n",
        "from sklearn.model_selection import train_test_split\n",
        "from sklearn.linear_model import LogisticRegression\n",
        "from sklearn.tree import DecisionTreeClassifier\n",
        "\n",
        "from imblearn.under_sampling import RandomUnderSampler\n",
        "\n",
        "%matplotlib inline"
      ],
      "execution_count": null,
      "outputs": []
    },
    {
      "cell_type": "markdown",
      "source": [
        "A partir de agora, iremos ter nosso primeiro contado com os dados"
      ],
      "metadata": {
        "id": "KYYfGuBUNdCO"
      }
    },
    {
      "cell_type": "code",
      "metadata": {
        "id": "4NxUOfDOj2j8",
        "colab": {
          "base_uri": "https://localhost:8080/"
        },
        "outputId": "1fe68296-c30d-4083-ef60-f29e47baa091"
      },
      "source": [
        "dados = \"https://www.dropbox.com/s/b44o3t3ehmnx2b7/creditcard.csv?dl=1\"\n",
        "\n",
        "#importar os dados para um dataframe\n",
        "df = pd.read_csv(dados)\n",
        "\n",
        "#Dimensão do conjunto original\n",
        "print(f\"Dimensão do Conujunto Original: {df.shape}\")\n",
        "\n",
        "#Criando um conjunto de teste\n",
        "test = df.sample(frac=0.15, random_state=0)\n",
        "\n",
        "#Apagando as linhas onde os dados de test foram pegos\n",
        "df = df.drop(test.index)\n",
        "\n",
        "#Verificando o conjunto de dados após a separação\n",
        "print(f\"Dimensão do Conujunto de Teste: {test.shape}\")\n",
        "print(f\"Dimensão do Conujunto de Treino: {df.shape}\")"
      ],
      "execution_count": null,
      "outputs": [
        {
          "output_type": "stream",
          "name": "stdout",
          "text": [
            "Dimensão do Conujunto Original: (284807, 31)\n",
            "Dimensão do Conujunto de Teste: (42721, 31)\n",
            "Dimensão do Conujunto de Treino: (242086, 31)\n"
          ]
        }
      ]
    },
    {
      "cell_type": "markdown",
      "metadata": {
        "id": "7nF_Dhd81Cvq"
      },
      "source": [
        "Com os dados importados para dentro de uma estrutura *Dataframe* - e não havendo a necessidade de mais nenhum ajuste ou configuração nesta etapa, podemos iniciar nossa análise exploratória dos dados a fim de preparar um modelo de *Machine Learning*.\n",
        "\n",
        "Lembrando que, acima fiz uma divisão dos dados que consiste em: 15% dos dados do nosso DataFrame original, foi separado para dados de teste. Que no final, após termos criado e ajustado nosso modelo de Machine Learning, possamos utilizar os dados de teste para avaliar o quão bom nosso modelo é, sem aplicarmos nenhuma modificação nos dados de teste, já que é assim que os dados chegam no dia a dia."
      ]
    },
    {
      "cell_type": "markdown",
      "source": [
        "## Dicionário de Variáveis\n",
        "\n",
        "* `Time` - Segundos entre cada transação\n",
        "* `Amount` - Valor da transação\n",
        "* `Class` - Variável que prova se é fraude ou não\n",
        "* `V1-V28` - Variáveis ocultas por privacidade\n",
        "\n",
        "\n"
      ],
      "metadata": {
        "id": "Fj5T9nIC39Ez"
      }
    },
    {
      "cell_type": "markdown",
      "source": [
        "## Análise Exploratória\n",
        "\n",
        "Observando apenas as cinco primeiras entradas, já conseguimos tirar algumas conclusões, como:\n",
        "* Entender como a tranformação PCA deixa os valores reais das colunas de uma forma anônima e em valores numéricos\n",
        "* As colunas `Time` e `Amount` foram preservadas, mantendo seu valor original.\n",
        "* A variável `Class` é a que nos interessa para fazer as previsões, onde:\n",
        "  * **0:** Transação Normal;\n",
        "  * **1:** Transação Fraudulenta;\n"
      ],
      "metadata": {
        "id": "J2ZihsazDV-o"
      }
    },
    {
      "cell_type": "code",
      "source": [
        "#Visualizando 5 primeiras entradas\n",
        "df.head()"
      ],
      "metadata": {
        "id": "ShoHkhPhQnvv",
        "colab": {
          "base_uri": "https://localhost:8080/",
          "height": 300
        },
        "outputId": "d2176154-8e21-4613-a9d8-8e47d3f0ea7a"
      },
      "execution_count": null,
      "outputs": [
        {
          "output_type": "execute_result",
          "data": {
            "text/plain": [
              "   Time        V1        V2        V3        V4        V5        V6        V7  \\\n",
              "0   0.0 -1.359807 -0.072781  2.536347  1.378155 -0.338321  0.462388  0.239599   \n",
              "1   0.0  1.191857  0.266151  0.166480  0.448154  0.060018 -0.082361 -0.078803   \n",
              "2   1.0 -1.358354 -1.340163  1.773209  0.379780 -0.503198  1.800499  0.791461   \n",
              "3   1.0 -0.966272 -0.185226  1.792993 -0.863291 -0.010309  1.247203  0.237609   \n",
              "4   2.0 -1.158233  0.877737  1.548718  0.403034 -0.407193  0.095921  0.592941   \n",
              "\n",
              "         V8        V9  ...       V21       V22       V23       V24       V25  \\\n",
              "0  0.098698  0.363787  ... -0.018307  0.277838 -0.110474  0.066928  0.128539   \n",
              "1  0.085102 -0.255425  ... -0.225775 -0.638672  0.101288 -0.339846  0.167170   \n",
              "2  0.247676 -1.514654  ...  0.247998  0.771679  0.909412 -0.689281 -0.327642   \n",
              "3  0.377436 -1.387024  ... -0.108300  0.005274 -0.190321 -1.175575  0.647376   \n",
              "4 -0.270533  0.817739  ... -0.009431  0.798278 -0.137458  0.141267 -0.206010   \n",
              "\n",
              "        V26       V27       V28  Amount  Class  \n",
              "0 -0.189115  0.133558 -0.021053  149.62      0  \n",
              "1  0.125895 -0.008983  0.014724    2.69      0  \n",
              "2 -0.139097 -0.055353 -0.059752  378.66      0  \n",
              "3 -0.221929  0.062723  0.061458  123.50      0  \n",
              "4  0.502292  0.219422  0.215153   69.99      0  \n",
              "\n",
              "[5 rows x 31 columns]"
            ],
            "text/html": [
              "\n",
              "  <div id=\"df-575b99a3-8be1-47e9-83a9-f53e2d7afebb\">\n",
              "    <div class=\"colab-df-container\">\n",
              "      <div>\n",
              "<style scoped>\n",
              "    .dataframe tbody tr th:only-of-type {\n",
              "        vertical-align: middle;\n",
              "    }\n",
              "\n",
              "    .dataframe tbody tr th {\n",
              "        vertical-align: top;\n",
              "    }\n",
              "\n",
              "    .dataframe thead th {\n",
              "        text-align: right;\n",
              "    }\n",
              "</style>\n",
              "<table border=\"1\" class=\"dataframe\">\n",
              "  <thead>\n",
              "    <tr style=\"text-align: right;\">\n",
              "      <th></th>\n",
              "      <th>Time</th>\n",
              "      <th>V1</th>\n",
              "      <th>V2</th>\n",
              "      <th>V3</th>\n",
              "      <th>V4</th>\n",
              "      <th>V5</th>\n",
              "      <th>V6</th>\n",
              "      <th>V7</th>\n",
              "      <th>V8</th>\n",
              "      <th>V9</th>\n",
              "      <th>...</th>\n",
              "      <th>V21</th>\n",
              "      <th>V22</th>\n",
              "      <th>V23</th>\n",
              "      <th>V24</th>\n",
              "      <th>V25</th>\n",
              "      <th>V26</th>\n",
              "      <th>V27</th>\n",
              "      <th>V28</th>\n",
              "      <th>Amount</th>\n",
              "      <th>Class</th>\n",
              "    </tr>\n",
              "  </thead>\n",
              "  <tbody>\n",
              "    <tr>\n",
              "      <th>0</th>\n",
              "      <td>0.0</td>\n",
              "      <td>-1.359807</td>\n",
              "      <td>-0.072781</td>\n",
              "      <td>2.536347</td>\n",
              "      <td>1.378155</td>\n",
              "      <td>-0.338321</td>\n",
              "      <td>0.462388</td>\n",
              "      <td>0.239599</td>\n",
              "      <td>0.098698</td>\n",
              "      <td>0.363787</td>\n",
              "      <td>...</td>\n",
              "      <td>-0.018307</td>\n",
              "      <td>0.277838</td>\n",
              "      <td>-0.110474</td>\n",
              "      <td>0.066928</td>\n",
              "      <td>0.128539</td>\n",
              "      <td>-0.189115</td>\n",
              "      <td>0.133558</td>\n",
              "      <td>-0.021053</td>\n",
              "      <td>149.62</td>\n",
              "      <td>0</td>\n",
              "    </tr>\n",
              "    <tr>\n",
              "      <th>1</th>\n",
              "      <td>0.0</td>\n",
              "      <td>1.191857</td>\n",
              "      <td>0.266151</td>\n",
              "      <td>0.166480</td>\n",
              "      <td>0.448154</td>\n",
              "      <td>0.060018</td>\n",
              "      <td>-0.082361</td>\n",
              "      <td>-0.078803</td>\n",
              "      <td>0.085102</td>\n",
              "      <td>-0.255425</td>\n",
              "      <td>...</td>\n",
              "      <td>-0.225775</td>\n",
              "      <td>-0.638672</td>\n",
              "      <td>0.101288</td>\n",
              "      <td>-0.339846</td>\n",
              "      <td>0.167170</td>\n",
              "      <td>0.125895</td>\n",
              "      <td>-0.008983</td>\n",
              "      <td>0.014724</td>\n",
              "      <td>2.69</td>\n",
              "      <td>0</td>\n",
              "    </tr>\n",
              "    <tr>\n",
              "      <th>2</th>\n",
              "      <td>1.0</td>\n",
              "      <td>-1.358354</td>\n",
              "      <td>-1.340163</td>\n",
              "      <td>1.773209</td>\n",
              "      <td>0.379780</td>\n",
              "      <td>-0.503198</td>\n",
              "      <td>1.800499</td>\n",
              "      <td>0.791461</td>\n",
              "      <td>0.247676</td>\n",
              "      <td>-1.514654</td>\n",
              "      <td>...</td>\n",
              "      <td>0.247998</td>\n",
              "      <td>0.771679</td>\n",
              "      <td>0.909412</td>\n",
              "      <td>-0.689281</td>\n",
              "      <td>-0.327642</td>\n",
              "      <td>-0.139097</td>\n",
              "      <td>-0.055353</td>\n",
              "      <td>-0.059752</td>\n",
              "      <td>378.66</td>\n",
              "      <td>0</td>\n",
              "    </tr>\n",
              "    <tr>\n",
              "      <th>3</th>\n",
              "      <td>1.0</td>\n",
              "      <td>-0.966272</td>\n",
              "      <td>-0.185226</td>\n",
              "      <td>1.792993</td>\n",
              "      <td>-0.863291</td>\n",
              "      <td>-0.010309</td>\n",
              "      <td>1.247203</td>\n",
              "      <td>0.237609</td>\n",
              "      <td>0.377436</td>\n",
              "      <td>-1.387024</td>\n",
              "      <td>...</td>\n",
              "      <td>-0.108300</td>\n",
              "      <td>0.005274</td>\n",
              "      <td>-0.190321</td>\n",
              "      <td>-1.175575</td>\n",
              "      <td>0.647376</td>\n",
              "      <td>-0.221929</td>\n",
              "      <td>0.062723</td>\n",
              "      <td>0.061458</td>\n",
              "      <td>123.50</td>\n",
              "      <td>0</td>\n",
              "    </tr>\n",
              "    <tr>\n",
              "      <th>4</th>\n",
              "      <td>2.0</td>\n",
              "      <td>-1.158233</td>\n",
              "      <td>0.877737</td>\n",
              "      <td>1.548718</td>\n",
              "      <td>0.403034</td>\n",
              "      <td>-0.407193</td>\n",
              "      <td>0.095921</td>\n",
              "      <td>0.592941</td>\n",
              "      <td>-0.270533</td>\n",
              "      <td>0.817739</td>\n",
              "      <td>...</td>\n",
              "      <td>-0.009431</td>\n",
              "      <td>0.798278</td>\n",
              "      <td>-0.137458</td>\n",
              "      <td>0.141267</td>\n",
              "      <td>-0.206010</td>\n",
              "      <td>0.502292</td>\n",
              "      <td>0.219422</td>\n",
              "      <td>0.215153</td>\n",
              "      <td>69.99</td>\n",
              "      <td>0</td>\n",
              "    </tr>\n",
              "  </tbody>\n",
              "</table>\n",
              "<p>5 rows × 31 columns</p>\n",
              "</div>\n",
              "      <button class=\"colab-df-convert\" onclick=\"convertToInteractive('df-575b99a3-8be1-47e9-83a9-f53e2d7afebb')\"\n",
              "              title=\"Convert this dataframe to an interactive table.\"\n",
              "              style=\"display:none;\">\n",
              "        \n",
              "  <svg xmlns=\"http://www.w3.org/2000/svg\" height=\"24px\"viewBox=\"0 0 24 24\"\n",
              "       width=\"24px\">\n",
              "    <path d=\"M0 0h24v24H0V0z\" fill=\"none\"/>\n",
              "    <path d=\"M18.56 5.44l.94 2.06.94-2.06 2.06-.94-2.06-.94-.94-2.06-.94 2.06-2.06.94zm-11 1L8.5 8.5l.94-2.06 2.06-.94-2.06-.94L8.5 2.5l-.94 2.06-2.06.94zm10 10l.94 2.06.94-2.06 2.06-.94-2.06-.94-.94-2.06-.94 2.06-2.06.94z\"/><path d=\"M17.41 7.96l-1.37-1.37c-.4-.4-.92-.59-1.43-.59-.52 0-1.04.2-1.43.59L10.3 9.45l-7.72 7.72c-.78.78-.78 2.05 0 2.83L4 21.41c.39.39.9.59 1.41.59.51 0 1.02-.2 1.41-.59l7.78-7.78 2.81-2.81c.8-.78.8-2.07 0-2.86zM5.41 20L4 18.59l7.72-7.72 1.47 1.35L5.41 20z\"/>\n",
              "  </svg>\n",
              "      </button>\n",
              "      \n",
              "  <style>\n",
              "    .colab-df-container {\n",
              "      display:flex;\n",
              "      flex-wrap:wrap;\n",
              "      gap: 12px;\n",
              "    }\n",
              "\n",
              "    .colab-df-convert {\n",
              "      background-color: #E8F0FE;\n",
              "      border: none;\n",
              "      border-radius: 50%;\n",
              "      cursor: pointer;\n",
              "      display: none;\n",
              "      fill: #1967D2;\n",
              "      height: 32px;\n",
              "      padding: 0 0 0 0;\n",
              "      width: 32px;\n",
              "    }\n",
              "\n",
              "    .colab-df-convert:hover {\n",
              "      background-color: #E2EBFA;\n",
              "      box-shadow: 0px 1px 2px rgba(60, 64, 67, 0.3), 0px 1px 3px 1px rgba(60, 64, 67, 0.15);\n",
              "      fill: #174EA6;\n",
              "    }\n",
              "\n",
              "    [theme=dark] .colab-df-convert {\n",
              "      background-color: #3B4455;\n",
              "      fill: #D2E3FC;\n",
              "    }\n",
              "\n",
              "    [theme=dark] .colab-df-convert:hover {\n",
              "      background-color: #434B5C;\n",
              "      box-shadow: 0px 1px 3px 1px rgba(0, 0, 0, 0.15);\n",
              "      filter: drop-shadow(0px 1px 2px rgba(0, 0, 0, 0.3));\n",
              "      fill: #FFFFFF;\n",
              "    }\n",
              "  </style>\n",
              "\n",
              "      <script>\n",
              "        const buttonEl =\n",
              "          document.querySelector('#df-575b99a3-8be1-47e9-83a9-f53e2d7afebb button.colab-df-convert');\n",
              "        buttonEl.style.display =\n",
              "          google.colab.kernel.accessAllowed ? 'block' : 'none';\n",
              "\n",
              "        async function convertToInteractive(key) {\n",
              "          const element = document.querySelector('#df-575b99a3-8be1-47e9-83a9-f53e2d7afebb');\n",
              "          const dataTable =\n",
              "            await google.colab.kernel.invokeFunction('convertToInteractive',\n",
              "                                                     [key], {});\n",
              "          if (!dataTable) return;\n",
              "\n",
              "          const docLinkHtml = 'Like what you see? Visit the ' +\n",
              "            '<a target=\"_blank\" href=https://colab.research.google.com/notebooks/data_table.ipynb>data table notebook</a>'\n",
              "            + ' to learn more about interactive tables.';\n",
              "          element.innerHTML = '';\n",
              "          dataTable['output_type'] = 'display_data';\n",
              "          await google.colab.output.renderOutput(dataTable, element);\n",
              "          const docLink = document.createElement('div');\n",
              "          docLink.innerHTML = docLinkHtml;\n",
              "          element.appendChild(docLink);\n",
              "        }\n",
              "      </script>\n",
              "    </div>\n",
              "  </div>\n",
              "  "
            ]
          },
          "metadata": {},
          "execution_count": 178
        }
      ]
    },
    {
      "cell_type": "markdown",
      "source": [
        "Logo em seguida irei exibir um resumo estatístico do nosso DataFrame, com algumas informações como: Média, Mediana, Desvio Padrão, Quartis e Valores Máximo e Mínimo."
      ],
      "metadata": {
        "id": "Z-wV18eg7Dt_"
      }
    },
    {
      "cell_type": "code",
      "source": [
        "#Descrição estatística dos dados\n",
        "df.describe()"
      ],
      "metadata": {
        "id": "sMLZU7mR6fNR",
        "colab": {
          "base_uri": "https://localhost:8080/",
          "height": 394
        },
        "outputId": "96af8f3b-be38-452a-b67b-76632f051943"
      },
      "execution_count": null,
      "outputs": [
        {
          "output_type": "execute_result",
          "data": {
            "text/plain": [
              "                Time             V1             V2             V3  \\\n",
              "count  242086.000000  242086.000000  242086.000000  242086.000000   \n",
              "mean    94857.597379       0.001456      -0.000800      -0.001004   \n",
              "std     47490.660832       1.956513       1.654883       1.514580   \n",
              "min         0.000000     -56.407510     -72.715728     -33.680984   \n",
              "25%     54234.000000      -0.920406      -0.598659      -0.893374   \n",
              "50%     84747.000000       0.019230       0.064567       0.177607   \n",
              "75%    139362.000000       1.316034       0.803174       1.026561   \n",
              "max    172792.000000       2.451888      22.057729       9.382558   \n",
              "\n",
              "                  V4             V5             V6             V7  \\\n",
              "count  242086.000000  242086.000000  242086.000000  242086.000000   \n",
              "mean        0.000647      -0.000986      -0.001196      -0.000033   \n",
              "std         1.417228       1.366284       1.326879       1.223095   \n",
              "min        -5.683171     -42.147898     -26.160506     -43.557242   \n",
              "25%        -0.848236      -0.693615      -0.769025      -0.553805   \n",
              "50%        -0.018959      -0.054544      -0.274310       0.040344   \n",
              "75%         0.743691       0.611455       0.397688       0.570104   \n",
              "max        16.875344      34.801666      23.917837      44.054461   \n",
              "\n",
              "                  V8             V9  ...            V21            V22  \\\n",
              "count  242086.000000  242086.000000  ...  242086.000000  242086.000000   \n",
              "mean       -0.000416      -0.000725  ...      -0.000015       0.000606   \n",
              "std         1.199718       1.099350  ...       0.734189       0.726284   \n",
              "min       -73.216718     -13.434066  ...     -34.830382     -10.933144   \n",
              "25%        -0.208857      -0.645058  ...      -0.228492      -0.542962   \n",
              "50%         0.022160      -0.051370  ...      -0.028987       0.007162   \n",
              "75%         0.327186       0.597195  ...       0.187064       0.529814   \n",
              "max        20.007208      15.594995  ...      27.202839      10.503090   \n",
              "\n",
              "                 V23            V24            V25            V26  \\\n",
              "count  242086.000000  242086.000000  242086.000000  242086.000000   \n",
              "mean       -0.000482       0.000199       0.000048      -0.000269   \n",
              "std         0.629651       0.605150       0.521574       0.482084   \n",
              "min       -44.807735      -2.822684     -10.295397      -2.604551   \n",
              "25%        -0.161941      -0.354494      -0.316853      -0.327387   \n",
              "50%        -0.011175       0.040764       0.017175      -0.052337   \n",
              "75%         0.147358       0.439320       0.350795       0.241214   \n",
              "max        22.528412       4.022866       7.519589       3.517346   \n",
              "\n",
              "                 V27            V28         Amount          Class  \n",
              "count  242086.000000  242086.000000  242086.000000  242086.000000  \n",
              "mean       -0.000727       0.000065      88.612429       0.001727  \n",
              "std         0.401490       0.327734     247.655020       0.041517  \n",
              "min       -22.565679     -11.710896       0.000000       0.000000  \n",
              "25%        -0.070744      -0.052903       5.662500       0.000000  \n",
              "50%         0.001131       0.011209      22.000000       0.000000  \n",
              "75%         0.090776       0.078234      77.580000       0.000000  \n",
              "max        12.152401      33.847808   19656.530000       1.000000  \n",
              "\n",
              "[8 rows x 31 columns]"
            ],
            "text/html": [
              "\n",
              "  <div id=\"df-5ca00c64-ca95-4a76-bb64-8a62793b14b4\">\n",
              "    <div class=\"colab-df-container\">\n",
              "      <div>\n",
              "<style scoped>\n",
              "    .dataframe tbody tr th:only-of-type {\n",
              "        vertical-align: middle;\n",
              "    }\n",
              "\n",
              "    .dataframe tbody tr th {\n",
              "        vertical-align: top;\n",
              "    }\n",
              "\n",
              "    .dataframe thead th {\n",
              "        text-align: right;\n",
              "    }\n",
              "</style>\n",
              "<table border=\"1\" class=\"dataframe\">\n",
              "  <thead>\n",
              "    <tr style=\"text-align: right;\">\n",
              "      <th></th>\n",
              "      <th>Time</th>\n",
              "      <th>V1</th>\n",
              "      <th>V2</th>\n",
              "      <th>V3</th>\n",
              "      <th>V4</th>\n",
              "      <th>V5</th>\n",
              "      <th>V6</th>\n",
              "      <th>V7</th>\n",
              "      <th>V8</th>\n",
              "      <th>V9</th>\n",
              "      <th>...</th>\n",
              "      <th>V21</th>\n",
              "      <th>V22</th>\n",
              "      <th>V23</th>\n",
              "      <th>V24</th>\n",
              "      <th>V25</th>\n",
              "      <th>V26</th>\n",
              "      <th>V27</th>\n",
              "      <th>V28</th>\n",
              "      <th>Amount</th>\n",
              "      <th>Class</th>\n",
              "    </tr>\n",
              "  </thead>\n",
              "  <tbody>\n",
              "    <tr>\n",
              "      <th>count</th>\n",
              "      <td>242086.000000</td>\n",
              "      <td>242086.000000</td>\n",
              "      <td>242086.000000</td>\n",
              "      <td>242086.000000</td>\n",
              "      <td>242086.000000</td>\n",
              "      <td>242086.000000</td>\n",
              "      <td>242086.000000</td>\n",
              "      <td>242086.000000</td>\n",
              "      <td>242086.000000</td>\n",
              "      <td>242086.000000</td>\n",
              "      <td>...</td>\n",
              "      <td>242086.000000</td>\n",
              "      <td>242086.000000</td>\n",
              "      <td>242086.000000</td>\n",
              "      <td>242086.000000</td>\n",
              "      <td>242086.000000</td>\n",
              "      <td>242086.000000</td>\n",
              "      <td>242086.000000</td>\n",
              "      <td>242086.000000</td>\n",
              "      <td>242086.000000</td>\n",
              "      <td>242086.000000</td>\n",
              "    </tr>\n",
              "    <tr>\n",
              "      <th>mean</th>\n",
              "      <td>94857.597379</td>\n",
              "      <td>0.001456</td>\n",
              "      <td>-0.000800</td>\n",
              "      <td>-0.001004</td>\n",
              "      <td>0.000647</td>\n",
              "      <td>-0.000986</td>\n",
              "      <td>-0.001196</td>\n",
              "      <td>-0.000033</td>\n",
              "      <td>-0.000416</td>\n",
              "      <td>-0.000725</td>\n",
              "      <td>...</td>\n",
              "      <td>-0.000015</td>\n",
              "      <td>0.000606</td>\n",
              "      <td>-0.000482</td>\n",
              "      <td>0.000199</td>\n",
              "      <td>0.000048</td>\n",
              "      <td>-0.000269</td>\n",
              "      <td>-0.000727</td>\n",
              "      <td>0.000065</td>\n",
              "      <td>88.612429</td>\n",
              "      <td>0.001727</td>\n",
              "    </tr>\n",
              "    <tr>\n",
              "      <th>std</th>\n",
              "      <td>47490.660832</td>\n",
              "      <td>1.956513</td>\n",
              "      <td>1.654883</td>\n",
              "      <td>1.514580</td>\n",
              "      <td>1.417228</td>\n",
              "      <td>1.366284</td>\n",
              "      <td>1.326879</td>\n",
              "      <td>1.223095</td>\n",
              "      <td>1.199718</td>\n",
              "      <td>1.099350</td>\n",
              "      <td>...</td>\n",
              "      <td>0.734189</td>\n",
              "      <td>0.726284</td>\n",
              "      <td>0.629651</td>\n",
              "      <td>0.605150</td>\n",
              "      <td>0.521574</td>\n",
              "      <td>0.482084</td>\n",
              "      <td>0.401490</td>\n",
              "      <td>0.327734</td>\n",
              "      <td>247.655020</td>\n",
              "      <td>0.041517</td>\n",
              "    </tr>\n",
              "    <tr>\n",
              "      <th>min</th>\n",
              "      <td>0.000000</td>\n",
              "      <td>-56.407510</td>\n",
              "      <td>-72.715728</td>\n",
              "      <td>-33.680984</td>\n",
              "      <td>-5.683171</td>\n",
              "      <td>-42.147898</td>\n",
              "      <td>-26.160506</td>\n",
              "      <td>-43.557242</td>\n",
              "      <td>-73.216718</td>\n",
              "      <td>-13.434066</td>\n",
              "      <td>...</td>\n",
              "      <td>-34.830382</td>\n",
              "      <td>-10.933144</td>\n",
              "      <td>-44.807735</td>\n",
              "      <td>-2.822684</td>\n",
              "      <td>-10.295397</td>\n",
              "      <td>-2.604551</td>\n",
              "      <td>-22.565679</td>\n",
              "      <td>-11.710896</td>\n",
              "      <td>0.000000</td>\n",
              "      <td>0.000000</td>\n",
              "    </tr>\n",
              "    <tr>\n",
              "      <th>25%</th>\n",
              "      <td>54234.000000</td>\n",
              "      <td>-0.920406</td>\n",
              "      <td>-0.598659</td>\n",
              "      <td>-0.893374</td>\n",
              "      <td>-0.848236</td>\n",
              "      <td>-0.693615</td>\n",
              "      <td>-0.769025</td>\n",
              "      <td>-0.553805</td>\n",
              "      <td>-0.208857</td>\n",
              "      <td>-0.645058</td>\n",
              "      <td>...</td>\n",
              "      <td>-0.228492</td>\n",
              "      <td>-0.542962</td>\n",
              "      <td>-0.161941</td>\n",
              "      <td>-0.354494</td>\n",
              "      <td>-0.316853</td>\n",
              "      <td>-0.327387</td>\n",
              "      <td>-0.070744</td>\n",
              "      <td>-0.052903</td>\n",
              "      <td>5.662500</td>\n",
              "      <td>0.000000</td>\n",
              "    </tr>\n",
              "    <tr>\n",
              "      <th>50%</th>\n",
              "      <td>84747.000000</td>\n",
              "      <td>0.019230</td>\n",
              "      <td>0.064567</td>\n",
              "      <td>0.177607</td>\n",
              "      <td>-0.018959</td>\n",
              "      <td>-0.054544</td>\n",
              "      <td>-0.274310</td>\n",
              "      <td>0.040344</td>\n",
              "      <td>0.022160</td>\n",
              "      <td>-0.051370</td>\n",
              "      <td>...</td>\n",
              "      <td>-0.028987</td>\n",
              "      <td>0.007162</td>\n",
              "      <td>-0.011175</td>\n",
              "      <td>0.040764</td>\n",
              "      <td>0.017175</td>\n",
              "      <td>-0.052337</td>\n",
              "      <td>0.001131</td>\n",
              "      <td>0.011209</td>\n",
              "      <td>22.000000</td>\n",
              "      <td>0.000000</td>\n",
              "    </tr>\n",
              "    <tr>\n",
              "      <th>75%</th>\n",
              "      <td>139362.000000</td>\n",
              "      <td>1.316034</td>\n",
              "      <td>0.803174</td>\n",
              "      <td>1.026561</td>\n",
              "      <td>0.743691</td>\n",
              "      <td>0.611455</td>\n",
              "      <td>0.397688</td>\n",
              "      <td>0.570104</td>\n",
              "      <td>0.327186</td>\n",
              "      <td>0.597195</td>\n",
              "      <td>...</td>\n",
              "      <td>0.187064</td>\n",
              "      <td>0.529814</td>\n",
              "      <td>0.147358</td>\n",
              "      <td>0.439320</td>\n",
              "      <td>0.350795</td>\n",
              "      <td>0.241214</td>\n",
              "      <td>0.090776</td>\n",
              "      <td>0.078234</td>\n",
              "      <td>77.580000</td>\n",
              "      <td>0.000000</td>\n",
              "    </tr>\n",
              "    <tr>\n",
              "      <th>max</th>\n",
              "      <td>172792.000000</td>\n",
              "      <td>2.451888</td>\n",
              "      <td>22.057729</td>\n",
              "      <td>9.382558</td>\n",
              "      <td>16.875344</td>\n",
              "      <td>34.801666</td>\n",
              "      <td>23.917837</td>\n",
              "      <td>44.054461</td>\n",
              "      <td>20.007208</td>\n",
              "      <td>15.594995</td>\n",
              "      <td>...</td>\n",
              "      <td>27.202839</td>\n",
              "      <td>10.503090</td>\n",
              "      <td>22.528412</td>\n",
              "      <td>4.022866</td>\n",
              "      <td>7.519589</td>\n",
              "      <td>3.517346</td>\n",
              "      <td>12.152401</td>\n",
              "      <td>33.847808</td>\n",
              "      <td>19656.530000</td>\n",
              "      <td>1.000000</td>\n",
              "    </tr>\n",
              "  </tbody>\n",
              "</table>\n",
              "<p>8 rows × 31 columns</p>\n",
              "</div>\n",
              "      <button class=\"colab-df-convert\" onclick=\"convertToInteractive('df-5ca00c64-ca95-4a76-bb64-8a62793b14b4')\"\n",
              "              title=\"Convert this dataframe to an interactive table.\"\n",
              "              style=\"display:none;\">\n",
              "        \n",
              "  <svg xmlns=\"http://www.w3.org/2000/svg\" height=\"24px\"viewBox=\"0 0 24 24\"\n",
              "       width=\"24px\">\n",
              "    <path d=\"M0 0h24v24H0V0z\" fill=\"none\"/>\n",
              "    <path d=\"M18.56 5.44l.94 2.06.94-2.06 2.06-.94-2.06-.94-.94-2.06-.94 2.06-2.06.94zm-11 1L8.5 8.5l.94-2.06 2.06-.94-2.06-.94L8.5 2.5l-.94 2.06-2.06.94zm10 10l.94 2.06.94-2.06 2.06-.94-2.06-.94-.94-2.06-.94 2.06-2.06.94z\"/><path d=\"M17.41 7.96l-1.37-1.37c-.4-.4-.92-.59-1.43-.59-.52 0-1.04.2-1.43.59L10.3 9.45l-7.72 7.72c-.78.78-.78 2.05 0 2.83L4 21.41c.39.39.9.59 1.41.59.51 0 1.02-.2 1.41-.59l7.78-7.78 2.81-2.81c.8-.78.8-2.07 0-2.86zM5.41 20L4 18.59l7.72-7.72 1.47 1.35L5.41 20z\"/>\n",
              "  </svg>\n",
              "      </button>\n",
              "      \n",
              "  <style>\n",
              "    .colab-df-container {\n",
              "      display:flex;\n",
              "      flex-wrap:wrap;\n",
              "      gap: 12px;\n",
              "    }\n",
              "\n",
              "    .colab-df-convert {\n",
              "      background-color: #E8F0FE;\n",
              "      border: none;\n",
              "      border-radius: 50%;\n",
              "      cursor: pointer;\n",
              "      display: none;\n",
              "      fill: #1967D2;\n",
              "      height: 32px;\n",
              "      padding: 0 0 0 0;\n",
              "      width: 32px;\n",
              "    }\n",
              "\n",
              "    .colab-df-convert:hover {\n",
              "      background-color: #E2EBFA;\n",
              "      box-shadow: 0px 1px 2px rgba(60, 64, 67, 0.3), 0px 1px 3px 1px rgba(60, 64, 67, 0.15);\n",
              "      fill: #174EA6;\n",
              "    }\n",
              "\n",
              "    [theme=dark] .colab-df-convert {\n",
              "      background-color: #3B4455;\n",
              "      fill: #D2E3FC;\n",
              "    }\n",
              "\n",
              "    [theme=dark] .colab-df-convert:hover {\n",
              "      background-color: #434B5C;\n",
              "      box-shadow: 0px 1px 3px 1px rgba(0, 0, 0, 0.15);\n",
              "      filter: drop-shadow(0px 1px 2px rgba(0, 0, 0, 0.3));\n",
              "      fill: #FFFFFF;\n",
              "    }\n",
              "  </style>\n",
              "\n",
              "      <script>\n",
              "        const buttonEl =\n",
              "          document.querySelector('#df-5ca00c64-ca95-4a76-bb64-8a62793b14b4 button.colab-df-convert');\n",
              "        buttonEl.style.display =\n",
              "          google.colab.kernel.accessAllowed ? 'block' : 'none';\n",
              "\n",
              "        async function convertToInteractive(key) {\n",
              "          const element = document.querySelector('#df-5ca00c64-ca95-4a76-bb64-8a62793b14b4');\n",
              "          const dataTable =\n",
              "            await google.colab.kernel.invokeFunction('convertToInteractive',\n",
              "                                                     [key], {});\n",
              "          if (!dataTable) return;\n",
              "\n",
              "          const docLinkHtml = 'Like what you see? Visit the ' +\n",
              "            '<a target=\"_blank\" href=https://colab.research.google.com/notebooks/data_table.ipynb>data table notebook</a>'\n",
              "            + ' to learn more about interactive tables.';\n",
              "          element.innerHTML = '';\n",
              "          dataTable['output_type'] = 'display_data';\n",
              "          await google.colab.output.renderOutput(dataTable, element);\n",
              "          const docLink = document.createElement('div');\n",
              "          docLink.innerHTML = docLinkHtml;\n",
              "          element.appendChild(docLink);\n",
              "        }\n",
              "      </script>\n",
              "    </div>\n",
              "  </div>\n",
              "  "
            ]
          },
          "metadata": {},
          "execution_count": 179
        }
      ]
    },
    {
      "cell_type": "markdown",
      "source": [
        "Observando as informações acima, podemos tirar algumas conclusões: As variáveis `V1-V28` e `Time` não possuem nenhuma discrepância.\n",
        "\n",
        "Já na variável `Amount`, podemos pegar alguns insights:\n",
        "* A média das transações é 88.61\n",
        "* A mediana é 22\n",
        "* O desvio padrão é 247.65\n",
        "* 75% dos valores estão abaixo de 77.58\n",
        "* O valor máximo de uma transição é 19656.53\n",
        "\n",
        "\n"
      ],
      "metadata": {
        "id": "3hQh0EXL-lul"
      }
    },
    {
      "cell_type": "markdown",
      "source": [
        "A seguir irei verificar se existem valores nulos em nosso dataset, caso haja...teremos que tomar alguma providência, o ideal seria preencher com zeros ou com a mediana, ou talvez apagar as linhas que estão nulas, tudo depende do problema.\n",
        "\n",
        "Isso tudo por que para treinarmos um modelo de Machine Learning, não podem existir valores nulos."
      ],
      "metadata": {
        "id": "mOCQgZhbGnyD"
      }
    },
    {
      "cell_type": "code",
      "source": [
        "#Verificando valores ausentes\n",
        "df.isnull().sum().max()"
      ],
      "metadata": {
        "id": "xs2yOuT66vel",
        "colab": {
          "base_uri": "https://localhost:8080/"
        },
        "outputId": "0e46a62a-43b0-4b1a-a71b-30dd37579bb4"
      },
      "execution_count": null,
      "outputs": [
        {
          "output_type": "execute_result",
          "data": {
            "text/plain": [
              "0"
            ]
          },
          "metadata": {},
          "execution_count": 180
        }
      ]
    },
    {
      "cell_type": "markdown",
      "source": [
        "Felizmente, em nosso conjunto de dados não existem valores ausentes, então não será preciso realizar nenhum procedimento especial."
      ],
      "metadata": {
        "id": "2tnkOvMqFlv3"
      }
    },
    {
      "cell_type": "markdown",
      "source": [
        "Agora vamos verificar como está as distribuições de classes, ver se estão muito desbalanceadas e se será nescessário fazer alguma transformação. Para isso, irei fazer um plot do tipo contagem para os 0s e 1s, e também ver a porcentagem de valores considerados fraudulentos."
      ],
      "metadata": {
        "id": "OQVNz2YN2JRu"
      }
    },
    {
      "cell_type": "code",
      "source": [
        "#Verificando o balanceamento do dataset\n",
        "print(df[\"Class\"].value_counts())\n",
        "perc_val_frau = (df[df[\"Class\"]==1].shape[0]/df.shape[0])*100\n",
        "perc_no_frau = (df[df[\"Class\"]==0].shape[0]/df.shape[0])*100\n",
        "print(f\"Normais representam: {perc_no_frau:.4f}% do dataset\")\n",
        "print(f\"Fraudes representam: {perc_val_frau:.4f}% do dataset\")\n",
        "\n",
        "#Construindo um gráfico de barras para as classes\n",
        "fig, ax = plt.subplots()\n",
        "sns.countplot(x=df[\"Class\"], ax=ax)\n",
        "ax.set_title(\"Distribuição de Classes\")\n",
        "plt.plot()"
      ],
      "metadata": {
        "id": "iwVuUkrb69FP",
        "colab": {
          "base_uri": "https://localhost:8080/",
          "height": 576
        },
        "outputId": "7f9eebdb-9009-4834-fd6f-4370b609bfe3"
      },
      "execution_count": null,
      "outputs": [
        {
          "output_type": "stream",
          "name": "stdout",
          "text": [
            "0    241668\n",
            "1       418\n",
            "Name: Class, dtype: int64\n",
            "Normais representam: 99.8273% do dataset\n",
            "Fraudes representam: 0.1727% do dataset\n"
          ]
        },
        {
          "output_type": "execute_result",
          "data": {
            "text/plain": [
              "[]"
            ]
          },
          "metadata": {},
          "execution_count": 181
        },
        {
          "output_type": "display_data",
          "data": {
            "text/plain": [
              "<Figure size 640x480 with 1 Axes>"
            ],
            "image/png": "[encoded data removed]"
          },
          "metadata": {}
        }
      ]
    },
    {
      "cell_type": "markdown",
      "source": [
        "Com as análises feitas acima, chegamos à algumas conclusões:\n",
        "* Existem 241.668 valores 0(normal) e apenas 418 valores 1(fraude)\n",
        "* As fraudes representam apenas 0.17% dos dados\n",
        "* As transações normais representam aproximadamente 99.83% dos dados\n",
        "\n",
        "Com esses pontos destacados acima, podemos ver claramente que existe um enorme desbalanceamento entre as classes. Logo iremos fazer um rebalanceamento, mas ainda não vamos nos preocupar com isso. Continuemos as análises..."
      ],
      "metadata": {
        "id": "UYa04GOS3QOL"
      }
    },
    {
      "cell_type": "code",
      "source": [
        "#Plotando um histograma da variável Time por Classes\n",
        "fig, ax = plt.subplots(nrows=2, ncols=1, figsize=(10, 5))\n",
        "\n",
        "\n",
        "ax[0].spines['top'].set_visible(False)\n",
        "ax[0].spines['right'].set_visible(False)\n",
        "ax[0].spines['bottom'].set_visible(False)\n",
        "ax[0].spines['left'].set_visible(False)\n",
        "\n",
        "ax[1].spines['top'].set_visible(False)\n",
        "ax[1].spines['right'].set_visible(False)\n",
        "ax[1].spines['bottom'].set_visible(False)\n",
        "ax[1].spines['left'].set_visible(False)\n",
        "\n",
        "ax[0].hist(df['Time'][df['Class']==0], bins=40, rwidth=0.9, color='#F97306')\n",
        "ax[0].set_title(\"Transação Normal\", )\n",
        "\n",
        "ax[1].hist(df['Time'][df['Class']==1], bins=40, rwidth=0.9)\n",
        "ax[1].set_title(\"Transação Fraudulenta\")\n",
        "\n",
        "plt.xlabel(\"Tempo(Segundos)\")\n",
        "plt.ylabel(\"Transações\")\n",
        "plt.tight_layout()"
      ],
      "metadata": {
        "id": "22057jG0EN0z",
        "colab": {
          "base_uri": "https://localhost:8080/",
          "height": 507
        },
        "outputId": "96cdef8a-1d10-4494-a848-3ec333f02575"
      },
      "execution_count": null,
      "outputs": [
        {
          "output_type": "display_data",
          "data": {
            "text/plain": [
              "<Figure size 1000x500 with 2 Axes>"
            ],
            "image/png": "[encoded data removed]"
          },
          "metadata": {}
        }
      ]
    },
    {
      "cell_type": "markdown",
      "source": [
        "Na célula acima criei 2 histogramas, uma para as transações normais e outra para transações fraudulentas, ambas ao longo do tempo para ver se era possível identificar algum padrão ou informação a partir deles. Porém, nada foi identificado a partir das distribuções acima."
      ],
      "metadata": {
        "id": "HJ5fUJRD50SA"
      }
    },
    {
      "cell_type": "markdown",
      "source": [
        "Abaixo irei criar alguns boxplots para verificar se existem valores discrepantes(outliers) na variável `Amount` e depois verificar outliers para cada classe de forma separada."
      ],
      "metadata": {
        "id": "JkZIFolU--LN"
      }
    },
    {
      "cell_type": "code",
      "source": [
        "#Plotar boxplot para Amount\n",
        "fig, ax = plt.subplots(figsize=(6,6))\n",
        "\n",
        "ax.spines['top'].set_visible(False)\n",
        "ax.spines['right'].set_visible(False)\n",
        "ax.spines['bottom'].set_visible(False)\n",
        "ax.spines['left'].set_visible(False)\n",
        "\n",
        "sns.boxplot(data=df['Amount'], ax=ax, showmeans=True)\n",
        "ax.set_title(\"Boxplot dos Valores\", pad=25)\n",
        "plt.show()"
      ],
      "metadata": {
        "id": "xGFeAcpXG9vW",
        "colab": {
          "base_uri": "https://localhost:8080/",
          "height": 571
        },
        "outputId": "381ea4d7-01c7-4424-b12b-060c61df6c53"
      },
      "execution_count": null,
      "outputs": [
        {
          "output_type": "display_data",
          "data": {
            "text/plain": [
              "<Figure size 600x600 with 1 Axes>"
            ],
            "image/png": "[encoded data removed]"
          },
          "metadata": {}
        }
      ]
    },
    {
      "cell_type": "code",
      "source": [
        "#Plotar boxplot de Amount para cada uma das classes\n",
        "fig, ax = plt.subplots(figsize=(6,6))\n",
        "\n",
        "sns.boxplot(x=df[\"Class\"], y=df[\"Amount\"], showmeans=True, ax=ax)\n",
        "plt.ylim((-20, 450))\n",
        "plt.xticks([0, 1], [\"Normal\", \"Fraude\"])\n",
        "ax.set_title(\"Boxplot dos Valores por Classes\", pad=25)\n",
        "\n",
        "ax.spines['top'].set_visible(False)\n",
        "ax.spines['right'].set_visible(False)\n",
        "ax.spines['bottom'].set_visible(False)\n",
        "ax.spines['left'].set_visible(False)\n",
        "\n",
        "plt.show()"
      ],
      "metadata": {
        "id": "_ijA0nVPAXVI",
        "colab": {
          "base_uri": "https://localhost:8080/",
          "height": 591
        },
        "outputId": "d2b04152-47a5-432c-86f6-40ed3b06e6d3"
      },
      "execution_count": null,
      "outputs": [
        {
          "output_type": "display_data",
          "data": {
            "text/plain": [
              "<Figure size 600x600 with 1 Axes>"
            ],
            "image/png": "[encoded data removed]"
          },
          "metadata": {}
        }
      ]
    },
    {
      "cell_type": "markdown",
      "source": [
        "Ao analisarmos os boxplots, conseguimos visualizar claramente que existem outliers na variável `Amount`, tanto para as classes normais quanto para as fraudulentas. E também é possível observar a média dos dados onde existe uma setinha verde."
      ],
      "metadata": {
        "id": "fTdzayJNGN9-"
      }
    },
    {
      "cell_type": "markdown",
      "source": [
        "Para podermos finalizar nossa análise exploratória de dados, a seguir irei criar um histograma de `Amount` para a classe fraudulenta(1) e junto também vou fazer uma descrição estatística de Amount para as classes de forma indivídual para ver se pode existir alguma correlação dos valores outliers com a classe pertencente."
      ],
      "metadata": {
        "id": "gq8MxhS-8VOA"
      }
    },
    {
      "cell_type": "code",
      "source": [
        "#Plotar Histograma de Amount para Class = 1\n",
        "fig, ax = plt.subplots(figsize=(7,5))\n",
        "\n",
        "amount_fraud = df['Amount'][df['Class'] == 1]\n",
        "\n",
        "ax.hist(amount_fraud, bins=8, rwidth=0.9)\n",
        "ax.set_xlabel(\"Amount\")\n",
        "ax.set_ylabel(\"Quantidade\")\n",
        "ax.set_title(\"Amount x Fraude\")\n",
        "plt.locator_params(axis='x', nbins=10)\n",
        "plt.show()"
      ],
      "metadata": {
        "id": "EP_YiRUx9_YQ",
        "colab": {
          "base_uri": "https://localhost:8080/",
          "height": 487
        },
        "outputId": "a0d84768-5848-4e02-8660-dd88d817fab6"
      },
      "execution_count": null,
      "outputs": [
        {
          "output_type": "display_data",
          "data": {
            "text/plain": [
              "<Figure size 700x500 with 1 Axes>"
            ],
            "image/png": "[encoded data removed]"
          },
          "metadata": {}
        }
      ]
    },
    {
      "cell_type": "code",
      "source": [
        "#Verificando descrição estatística das classes de forma separada\n",
        "norm_0 = df['Amount'][df['Class'] == 0]\n",
        "fraud_1 = df['Amount'][df['Class'] == 1]\n",
        "\n",
        "print(\"Valores Normais:\")\n",
        "print(norm_0.describe())\n",
        "print(\"-----------------------------\")\n",
        "print(\"Valores Fraudulentos:\")\n",
        "print(fraud_1.describe())"
      ],
      "metadata": {
        "id": "rB4Eat51Acac",
        "colab": {
          "base_uri": "https://localhost:8080/"
        },
        "outputId": "d3dc8d03-4901-4796-f553-a3977f032ea4"
      },
      "execution_count": null,
      "outputs": [
        {
          "output_type": "stream",
          "name": "stdout",
          "text": [
            "Valores Normais:\n",
            "count    241668.000000\n",
            "mean         88.543443\n",
            "std         247.613919\n",
            "min           0.000000\n",
            "25%           5.700000\n",
            "50%          22.000000\n",
            "75%          77.500000\n",
            "max       19656.530000\n",
            "Name: Amount, dtype: float64\n",
            "-----------------------------\n",
            "Valores Fraudulentos:\n",
            "count     418.000000\n",
            "mean      128.496722\n",
            "std       267.731154\n",
            "min         0.000000\n",
            "25%         1.000000\n",
            "50%        11.855000\n",
            "75%       106.812500\n",
            "max      2125.870000\n",
            "Name: Amount, dtype: float64\n"
          ]
        }
      ]
    },
    {
      "cell_type": "markdown",
      "source": [
        "Ótimo! Com essas últimas 2 análises podemos observar:\n",
        "* A maioria das compras Fraudulentas está entre 0 e 250\n",
        "* A média de valores normais e fraudulentas são bem diferentes\n",
        "* Média Normais: 88.54 / Média Fraudes: 128.49, uma diferença de 45%\n",
        "\n",
        "A parir desses pontos, pode ser que nosso nosso modelo de Machine Learning considere um valor um pouco mais alto como se fosse Fraude, e isso pode ser um problema. Iremos agora começar a preparar nossos dados para podermos aplicar um modelo."
      ],
      "metadata": {
        "id": "GWQK-ko2DNlh"
      }
    },
    {
      "cell_type": "markdown",
      "metadata": {
        "id": "ULe7z0jZt0EH"
      },
      "source": [
        "## Preparação dos Dados\n",
        "\n",
        "Como disse anteriormente, já fizemos algumas análises para podermos nos aprofundar e entender os dados. Porém antes de aplicarmos um modelo de Machine Learning precisamos fazer algumas preparações, para que o modelo seja o melhor possível, e para isso os dados precisam ser bons o suficiente.\n",
        "\n",
        "Iremos realizar algumas coisas, como:\n",
        "\n",
        "* Padronizar os dados de: `Time` e `Amount`\n",
        "* Dividir o conjunto de dados entre treino e validação\n",
        "* Balancear o conjunto de dados"
      ]
    },
    {
      "cell_type": "markdown",
      "source": [
        "## Padronização dos dados\n",
        "\n",
        "A padronização dos dados, também conhecida como normalização, é um processo comum na pré-processamento de dados usado para transformar os valores das variáveis em uma escala comum. O objetivo é garantir que todas as variáveis tenham a mesma ordem de grandeza, eliminando assim as diferenças de escala entre elas.\n",
        "\n",
        "A padronização é realizada calculando a média e o desvio padrão dos dados e, em seguida, subtraindo a média de cada valor e dividindo pelo desvio padrão. Isso resulta em uma distribuição com média zero e desvio padrão igual a um.\n",
        "\n",
        "Padronizarei as colunas: **Amount** e **Time**. Como sabemos que a variável Amount contém valores outliers, irei utilizar a função **StandardScaler** da biblioteca Scikit-Learn.\n",
        "\n"
      ],
      "metadata": {
        "id": "cb6d6F3kQUQo"
      }
    },
    {
      "cell_type": "code",
      "metadata": {
        "id": "IqfjG_SUSTi-",
        "colab": {
          "base_uri": "https://localhost:8080/",
          "height": 300
        },
        "outputId": "a850cf90-51b9-4395-801d-e1e585b32bfc"
      },
      "source": [
        "#Criando uma cópia do DataFrame original\n",
        "df_std = df.copy()\n",
        "\n",
        "#Instanciando a função\n",
        "std_scaler = StandardScaler()\n",
        "\n",
        "#Aplicando a transformação\n",
        "df_std[\"std_amount\"] = std_scaler.fit_transform(df_std[\"Amount\"].values.reshape(-1, 1))\n",
        "df_std[\"std_time\"] = std_scaler.fit_transform(df_std[\"Time\"].values.reshape(-1, 1))\n",
        "\n",
        "#Apagando colunas sem a transformação\n",
        "df_std.drop(columns=[\"Time\", \"Amount\"], axis=1, inplace=True)\n",
        "\n",
        "#Visualizando os novos dados\n",
        "df_std.head()"
      ],
      "execution_count": null,
      "outputs": [
        {
          "output_type": "execute_result",
          "data": {
            "text/plain": [
              "         V1        V2        V3        V4        V5        V6        V7  \\\n",
              "0 -1.359807 -0.072781  2.536347  1.378155 -0.338321  0.462388  0.239599   \n",
              "1  1.191857  0.266151  0.166480  0.448154  0.060018 -0.082361 -0.078803   \n",
              "2 -1.358354 -1.340163  1.773209  0.379780 -0.503198  1.800499  0.791461   \n",
              "3 -0.966272 -0.185226  1.792993 -0.863291 -0.010309  1.247203  0.237609   \n",
              "4 -1.158233  0.877737  1.548718  0.403034 -0.407193  0.095921  0.592941   \n",
              "\n",
              "         V8        V9       V10  ...       V22       V23       V24       V25  \\\n",
              "0  0.098698  0.363787  0.090794  ...  0.277838 -0.110474  0.066928  0.128539   \n",
              "1  0.085102 -0.255425 -0.166974  ... -0.638672  0.101288 -0.339846  0.167170   \n",
              "2  0.247676 -1.514654  0.207643  ...  0.771679  0.909412 -0.689281 -0.327642   \n",
              "3  0.377436 -1.387024 -0.054952  ...  0.005274 -0.190321 -1.175575  0.647376   \n",
              "4 -0.270533  0.817739  0.753074  ...  0.798278 -0.137458  0.141267 -0.206010   \n",
              "\n",
              "        V26       V27       V28  Class  std_amount  std_time  \n",
              "0 -0.189115  0.133558 -0.021053      0    0.246341 -1.997399  \n",
              "1  0.125895 -0.008983  0.014724      0   -0.346945 -1.997399  \n",
              "2 -0.139097 -0.055353 -0.059752      0    1.171178 -1.997378  \n",
              "3 -0.221929  0.062723  0.061458      0    0.140872 -1.997378  \n",
              "4  0.502292  0.219422  0.215153      0   -0.075195 -1.997357  \n",
              "\n",
              "[5 rows x 31 columns]"
            ],
            "text/html": [
              "\n",
              "  <div id=\"df-688da29f-d3ef-4137-936a-b6fa3ab2bb24\">\n",
              "    <div class=\"colab-df-container\">\n",
              "      <div>\n",
              "<style scoped>\n",
              "    .dataframe tbody tr th:only-of-type {\n",
              "        vertical-align: middle;\n",
              "    }\n",
              "\n",
              "    .dataframe tbody tr th {\n",
              "        vertical-align: top;\n",
              "    }\n",
              "\n",
              "    .dataframe thead th {\n",
              "        text-align: right;\n",
              "    }\n",
              "</style>\n",
              "<table border=\"1\" class=\"dataframe\">\n",
              "  <thead>\n",
              "    <tr style=\"text-align: right;\">\n",
              "      <th></th>\n",
              "      <th>V1</th>\n",
              "      <th>V2</th>\n",
              "      <th>V3</th>\n",
              "      <th>V4</th>\n",
              "      <th>V5</th>\n",
              "      <th>V6</th>\n",
              "      <th>V7</th>\n",
              "      <th>V8</th>\n",
              "      <th>V9</th>\n",
              "      <th>V10</th>\n",
              "      <th>...</th>\n",
              "      <th>V22</th>\n",
              "      <th>V23</th>\n",
              "      <th>V24</th>\n",
              "      <th>V25</th>\n",
              "      <th>V26</th>\n",
              "      <th>V27</th>\n",
              "      <th>V28</th>\n",
              "      <th>Class</th>\n",
              "      <th>std_amount</th>\n",
              "      <th>std_time</th>\n",
              "    </tr>\n",
              "  </thead>\n",
              "  <tbody>\n",
              "    <tr>\n",
              "      <th>0</th>\n",
              "      <td>-1.359807</td>\n",
              "      <td>-0.072781</td>\n",
              "      <td>2.536347</td>\n",
              "      <td>1.378155</td>\n",
              "      <td>-0.338321</td>\n",
              "      <td>0.462388</td>\n",
              "      <td>0.239599</td>\n",
              "      <td>0.098698</td>\n",
              "      <td>0.363787</td>\n",
              "      <td>0.090794</td>\n",
              "      <td>...</td>\n",
              "      <td>0.277838</td>\n",
              "      <td>-0.110474</td>\n",
              "      <td>0.066928</td>\n",
              "      <td>0.128539</td>\n",
              "      <td>-0.189115</td>\n",
              "      <td>0.133558</td>\n",
              "      <td>-0.021053</td>\n",
              "      <td>0</td>\n",
              "      <td>0.246341</td>\n",
              "      <td>-1.997399</td>\n",
              "    </tr>\n",
              "    <tr>\n",
              "      <th>1</th>\n",
              "      <td>1.191857</td>\n",
              "      <td>0.266151</td>\n",
              "      <td>0.166480</td>\n",
              "      <td>0.448154</td>\n",
              "      <td>0.060018</td>\n",
              "      <td>-0.082361</td>\n",
              "      <td>-0.078803</td>\n",
              "      <td>0.085102</td>\n",
              "      <td>-0.255425</td>\n",
              "      <td>-0.166974</td>\n",
              "      <td>...</td>\n",
              "      <td>-0.638672</td>\n",
              "      <td>0.101288</td>\n",
              "      <td>-0.339846</td>\n",
              "      <td>0.167170</td>\n",
              "      <td>0.125895</td>\n",
              "      <td>-0.008983</td>\n",
              "      <td>0.014724</td>\n",
              "      <td>0</td>\n",
              "      <td>-0.346945</td>\n",
              "      <td>-1.997399</td>\n",
              "    </tr>\n",
              "    <tr>\n",
              "      <th>2</th>\n",
              "      <td>-1.358354</td>\n",
              "      <td>-1.340163</td>\n",
              "      <td>1.773209</td>\n",
              "      <td>0.379780</td>\n",
              "      <td>-0.503198</td>\n",
              "      <td>1.800499</td>\n",
              "      <td>0.791461</td>\n",
              "      <td>0.247676</td>\n",
              "      <td>-1.514654</td>\n",
              "      <td>0.207643</td>\n",
              "      <td>...</td>\n",
              "      <td>0.771679</td>\n",
              "      <td>0.909412</td>\n",
              "      <td>-0.689281</td>\n",
              "      <td>-0.327642</td>\n",
              "      <td>-0.139097</td>\n",
              "      <td>-0.055353</td>\n",
              "      <td>-0.059752</td>\n",
              "      <td>0</td>\n",
              "      <td>1.171178</td>\n",
              "      <td>-1.997378</td>\n",
              "    </tr>\n",
              "    <tr>\n",
              "      <th>3</th>\n",
              "      <td>-0.966272</td>\n",
              "      <td>-0.185226</td>\n",
              "      <td>1.792993</td>\n",
              "      <td>-0.863291</td>\n",
              "      <td>-0.010309</td>\n",
              "      <td>1.247203</td>\n",
              "      <td>0.237609</td>\n",
              "      <td>0.377436</td>\n",
              "      <td>-1.387024</td>\n",
              "      <td>-0.054952</td>\n",
              "      <td>...</td>\n",
              "      <td>0.005274</td>\n",
              "      <td>-0.190321</td>\n",
              "      <td>-1.175575</td>\n",
              "      <td>0.647376</td>\n",
              "      <td>-0.221929</td>\n",
              "      <td>0.062723</td>\n",
              "      <td>0.061458</td>\n",
              "      <td>0</td>\n",
              "      <td>0.140872</td>\n",
              "      <td>-1.997378</td>\n",
              "    </tr>\n",
              "    <tr>\n",
              "      <th>4</th>\n",
              "      <td>-1.158233</td>\n",
              "      <td>0.877737</td>\n",
              "      <td>1.548718</td>\n",
              "      <td>0.403034</td>\n",
              "      <td>-0.407193</td>\n",
              "      <td>0.095921</td>\n",
              "      <td>0.592941</td>\n",
              "      <td>-0.270533</td>\n",
              "      <td>0.817739</td>\n",
              "      <td>0.753074</td>\n",
              "      <td>...</td>\n",
              "      <td>0.798278</td>\n",
              "      <td>-0.137458</td>\n",
              "      <td>0.141267</td>\n",
              "      <td>-0.206010</td>\n",
              "      <td>0.502292</td>\n",
              "      <td>0.219422</td>\n",
              "      <td>0.215153</td>\n",
              "      <td>0</td>\n",
              "      <td>-0.075195</td>\n",
              "      <td>-1.997357</td>\n",
              "    </tr>\n",
              "  </tbody>\n",
              "</table>\n",
              "<p>5 rows × 31 columns</p>\n",
              "</div>\n",
              "      <button class=\"colab-df-convert\" onclick=\"convertToInteractive('df-688da29f-d3ef-4137-936a-b6fa3ab2bb24')\"\n",
              "              title=\"Convert this dataframe to an interactive table.\"\n",
              "              style=\"display:none;\">\n",
              "        \n",
              "  <svg xmlns=\"http://www.w3.org/2000/svg\" height=\"24px\"viewBox=\"0 0 24 24\"\n",
              "       width=\"24px\">\n",
              "    <path d=\"M0 0h24v24H0V0z\" fill=\"none\"/>\n",
              "    <path d=\"M18.56 5.44l.94 2.06.94-2.06 2.06-.94-2.06-.94-.94-2.06-.94 2.06-2.06.94zm-11 1L8.5 8.5l.94-2.06 2.06-.94-2.06-.94L8.5 2.5l-.94 2.06-2.06.94zm10 10l.94 2.06.94-2.06 2.06-.94-2.06-.94-.94-2.06-.94 2.06-2.06.94z\"/><path d=\"M17.41 7.96l-1.37-1.37c-.4-.4-.92-.59-1.43-.59-.52 0-1.04.2-1.43.59L10.3 9.45l-7.72 7.72c-.78.78-.78 2.05 0 2.83L4 21.41c.39.39.9.59 1.41.59.51 0 1.02-.2 1.41-.59l7.78-7.78 2.81-2.81c.8-.78.8-2.07 0-2.86zM5.41 20L4 18.59l7.72-7.72 1.47 1.35L5.41 20z\"/>\n",
              "  </svg>\n",
              "      </button>\n",
              "      \n",
              "  <style>\n",
              "    .colab-df-container {\n",
              "      display:flex;\n",
              "      flex-wrap:wrap;\n",
              "      gap: 12px;\n",
              "    }\n",
              "\n",
              "    .colab-df-convert {\n",
              "      background-color: #E8F0FE;\n",
              "      border: none;\n",
              "      border-radius: 50%;\n",
              "      cursor: pointer;\n",
              "      display: none;\n",
              "      fill: #1967D2;\n",
              "      height: 32px;\n",
              "      padding: 0 0 0 0;\n",
              "      width: 32px;\n",
              "    }\n",
              "\n",
              "    .colab-df-convert:hover {\n",
              "      background-color: #E2EBFA;\n",
              "      box-shadow: 0px 1px 2px rgba(60, 64, 67, 0.3), 0px 1px 3px 1px rgba(60, 64, 67, 0.15);\n",
              "      fill: #174EA6;\n",
              "    }\n",
              "\n",
              "    [theme=dark] .colab-df-convert {\n",
              "      background-color: #3B4455;\n",
              "      fill: #D2E3FC;\n",
              "    }\n",
              "\n",
              "    [theme=dark] .colab-df-convert:hover {\n",
              "      background-color: #434B5C;\n",
              "      box-shadow: 0px 1px 3px 1px rgba(0, 0, 0, 0.15);\n",
              "      filter: drop-shadow(0px 1px 2px rgba(0, 0, 0, 0.3));\n",
              "      fill: #FFFFFF;\n",
              "    }\n",
              "  </style>\n",
              "\n",
              "      <script>\n",
              "        const buttonEl =\n",
              "          document.querySelector('#df-688da29f-d3ef-4137-936a-b6fa3ab2bb24 button.colab-df-convert');\n",
              "        buttonEl.style.display =\n",
              "          google.colab.kernel.accessAllowed ? 'block' : 'none';\n",
              "\n",
              "        async function convertToInteractive(key) {\n",
              "          const element = document.querySelector('#df-688da29f-d3ef-4137-936a-b6fa3ab2bb24');\n",
              "          const dataTable =\n",
              "            await google.colab.kernel.invokeFunction('convertToInteractive',\n",
              "                                                     [key], {});\n",
              "          if (!dataTable) return;\n",
              "\n",
              "          const docLinkHtml = 'Like what you see? Visit the ' +\n",
              "            '<a target=\"_blank\" href=https://colab.research.google.com/notebooks/data_table.ipynb>data table notebook</a>'\n",
              "            + ' to learn more about interactive tables.';\n",
              "          element.innerHTML = '';\n",
              "          dataTable['output_type'] = 'display_data';\n",
              "          await google.colab.output.renderOutput(dataTable, element);\n",
              "          const docLink = document.createElement('div');\n",
              "          docLink.innerHTML = docLinkHtml;\n",
              "          element.appendChild(docLink);\n",
              "        }\n",
              "      </script>\n",
              "    </div>\n",
              "  </div>\n",
              "  "
            ]
          },
          "metadata": {},
          "execution_count": 187
        }
      ]
    },
    {
      "cell_type": "markdown",
      "source": [
        "Agora após a transformação conseguimos perceber que os dados de `std_amount` e `std_time` estão parecidos com nossas variáveis `V1-V28`, isso significa que estão todas em uma mesma escala."
      ],
      "metadata": {
        "id": "yBNPRlaWUi5u"
      }
    },
    {
      "cell_type": "markdown",
      "source": [
        "## Separando os Dados em Treino e Teste\n",
        "\n",
        "Com os dados padronizados, agora podemos dividir nosso conjunto de dados entre **Treino** e **Validação**, onde 75% dos nossos dados será direcionado para treino e 25% para validação. Vou fazer essa divisão antes de balancear os dados pois, irei utilizar apenas os dados de treino para fazer esse balanceamento, e por fim aplicar esses dados para treinar nosso modelo, afim de que quando formos valida-lo podemos ver quão bom é nosso modelo.\n",
        "\n",
        "Para isso irei utilizar a função **train_test_split**, e irei utilizar dois parâmetros afim de conseguir uma melhor separação nos dados, são elas: Stratify e Shuffle.\n",
        "\n",
        "* **Stratify**: É usado para realizar uma divisão estratificada dos dados. Isso significa que, ao dividir os dados em subconjuntos de treinamento e teste, a distribuição das classes ou rótulos é mantida em ambos os conjuntos.\n",
        "\n",
        "* **Shuffle**: É usado para embaralhar os dados antes de fazer a divisão, evitando qualquer viés ou ordem nos dados."
      ],
      "metadata": {
        "id": "JxVXOmzoVQPV"
      }
    },
    {
      "cell_type": "code",
      "source": [
        "#Separando os dados\n",
        "x = df_std.drop(\"Class\", axis=1)\n",
        "y = df_std[\"Class\"]\n",
        "\n",
        "#Dividindo os dados entre Treino e Teste\n",
        "x_train, x_val, y_train, y_val = train_test_split(x, y, stratify=y, shuffle=True)\n",
        "\n",
        "#Mostrando a proporção dos nossos dados\n",
        "print(f\"Dados Totais: {df_std.shape[0]}\")\n",
        "print(f\"Dados de Treino: {x_train.shape[0]}\")\n",
        "print(f\"Dados de Validação: {x_val.shape[0]}\")"
      ],
      "metadata": {
        "id": "c4bAadSi522M",
        "colab": {
          "base_uri": "https://localhost:8080/"
        },
        "outputId": "4c22223e-b60a-43fc-bbd0-1f0409a4cb49"
      },
      "execution_count": null,
      "outputs": [
        {
          "output_type": "stream",
          "name": "stdout",
          "text": [
            "Dados Totais: 242086\n",
            "Dados de Treino: 181564\n",
            "Dados de Validação: 60522\n"
          ]
        }
      ]
    },
    {
      "cell_type": "markdown",
      "source": [
        "Como podemos observar nossos dados totais são 242.086, já os dados de treino são 181.564 o que corresponde a 75% dos dados, e os dados de validação são 60.522 que represesnta 25% do total de dados. Com os dados já separados, podemos partir para a próxima etapa que é o balanceamento do conjunto de classes."
      ],
      "metadata": {
        "id": "dDTk6rCnG-X2"
      }
    },
    {
      "cell_type": "markdown",
      "source": [
        "## Balanceamento dos Dados\n",
        "\n",
        "O balanceamento é um procedimento utilizado para lidar com conjuntos de dados desequilibrados, nos quais uma ou mais classes têm um número significativamente menor de exemplos em comparação com outras classes. Esse desequilíbrio pode causar problemas durante o treinamento de um modelo. O objetivo do balanceamento de classes é corrigir esse desequilíbrio.\n",
        "\n",
        "Existem várias técnicas comumente usadas para balancear as classes:\n",
        "\n",
        "* **Oversampling**: É uma técnica de balanceamento de classes em que a classe minoritária é aumentada através da replicação ou geração de exemplos adicionais. Isso é feito para equalizar o número de exemplos entre as classes, tornando o conjunto de dados mais equilibrado.\n",
        "\n",
        "* **Undersampling**: É uma técnica de balanceamento de classes em que a classe majoritária é reduzida, removendo exemplos aleatoriamente ou com base em algum específico necessário. Isso é feito para igualar o número de exemplos entre as classes e evitar o viés em direção à classe majoritária.\n",
        "\n",
        "Neste projeto irei utilizar o método de balanceamento Undersampling da biblioteca `imblearn`. Pois como vimos mais acima, nossos dados estão completamente desbalanceados."
      ],
      "metadata": {
        "id": "GUEKFRc3I1LH"
      }
    },
    {
      "cell_type": "code",
      "source": [
        "#Instanciando a função do imblearn\n",
        "under_sampler = RandomUnderSampler()\n",
        "\n",
        "#Aplicando a transformação\n",
        "x_bal, y_bal = under_sampler.fit_resample(x_train, y_train)\n",
        "\n",
        "#Construindo um gráfico de barras para as classes após o balanceamento\n",
        "print(y_bal.value_counts())\n",
        "\n",
        "color_mapping = {\n",
        "    0: '#1f77b4',\n",
        "    1: '#e1812c'}\n",
        "\n",
        "ax = y_bal.value_counts().plot(kind='bar', color=[color_mapping.get(x, 'cor padrão') for x in y_bal.unique()])"
      ],
      "metadata": {
        "id": "wjAMJwFIRvG5",
        "colab": {
          "base_uri": "https://localhost:8080/",
          "height": 477
        },
        "outputId": "3359ca2c-35b6-415a-d42d-5a4064aa355d"
      },
      "execution_count": null,
      "outputs": [
        {
          "output_type": "stream",
          "name": "stdout",
          "text": [
            "0    313\n",
            "1    313\n",
            "Name: Class, dtype: int64\n"
          ]
        },
        {
          "output_type": "display_data",
          "data": {
            "text/plain": [
              "<Figure size 640x480 with 1 Axes>"
            ],
            "image/png": "[encoded data removed]"
          },
          "metadata": {}
        }
      ]
    },
    {
      "cell_type": "markdown",
      "source": [
        "Observando o gráfico acima podemos ver como o balanceamento funciona, e como nossas classes estão bem distribuidas agora. Com esse balanceamento, fazemos com que nosso modelo evite dar Overfiting, que é quando o modelo é tão preciso que se torna ruim, pois ele não será bom para dados novos, já que ele decorou os dados anteriores em vez de aprender.\n",
        "\n",
        "Logo em seguida irei plotar uma matriz de correlação entre as variáveis, uma matriz para os dados debalanceados e uma para os dados balanceados, e veremos se mudou alguma coisa. E logo em seguida, finalmente chegaremos na parte de construir nosso modelo de Machine Learning."
      ],
      "metadata": {
        "id": "Migp6N6WbTIX"
      }
    },
    {
      "cell_type": "code",
      "source": [
        "#Fazendo a correlação\n",
        "corr_balanceados = x_bal.corr()\n",
        "corr_desbalanceados = x_train.corr()\n",
        "\n",
        "#Matriz de correlação dos dados balancedos e desbalanceados\n",
        "fig, ax = plt.subplots(nrows=1, ncols=2, figsize=(16, 6))\n",
        "fig.suptitle(\"Matriz de Correlação\")\n",
        "\n",
        "sns.heatmap(corr_desbalanceados, ax=ax[0], linewidth=.01, cmap=\"crest\")\n",
        "ax[0].set_title(\"Dados Desbalanceados\")\n",
        "sns.heatmap(corr_balanceados, ax=ax[1], linewidth=.01, cmap=\"crest\")\n",
        "ax[1].set_title(\"Dados Balanceados\")"
      ],
      "metadata": {
        "colab": {
          "base_uri": "https://localhost:8080/",
          "height": 581
        },
        "id": "8vj-f2RPzYsS",
        "outputId": "d6acc93b-4884-4f60-9eb0-9e724a08261e"
      },
      "execution_count": null,
      "outputs": [
        {
          "output_type": "execute_result",
          "data": {
            "text/plain": [
              "Text(0.5, 1.0, 'Dados Balanceados')"
            ]
          },
          "metadata": {},
          "execution_count": 190
        },
        {
          "output_type": "display_data",
          "data": {
            "text/plain": [
              "<Figure size 1600x600 with 4 Axes>"
            ],
            "image/png": "[encoded data removed]"
          },
          "metadata": {}
        }
      ]
    },
    {
      "cell_type": "markdown",
      "source": [
        "Como podemos observar, após o balanceamento dos dados as variáveis possuiem uma correlação maior do que quando eram desbalanceadas. Para entenderem melhor, vou explicar como funciona uma correlação, ela sempre varia de -1 a 1 que significa:\n",
        "\n",
        "* Um valor próximo de 1 indica uma correlação positiva forte, ou seja, as variáveis tendem a variar na mesma direção.\n",
        "\n",
        "* Um valor próximo de -1 indica uma correlação negativa forte, ou seja, uma variável tende a aumentar enquanto a outra tende a diminuir.\n",
        "\n",
        "* Um valor próximo de 0 indica uma correlação fraca ou nula, ou seja, as variáveis não apresentam uma relação linear aparente."
      ],
      "metadata": {
        "id": "xDNgQQzL8Zu8"
      }
    },
    {
      "cell_type": "markdown",
      "source": [
        "Daremos inicio agora a nossa parte de modelos de Machine Learning."
      ],
      "metadata": {
        "id": "i0H6-k5F_JSA"
      }
    },
    {
      "cell_type": "markdown",
      "metadata": {
        "id": "wJNH5qcjRxfX"
      },
      "source": [
        "## Modelo de Machine Learning\n",
        "\n",
        "Machine Learning é uma área da inteligência artificial em que os computadores podem aprender a partir de dados, identificando padrões e tomando decisões sem serem explicitamente programados. É uma forma de treinar modelos para realizar tarefas e fazer previsões com base em exemplos fornecidos.\n",
        "\n",
        "Em nosso projeto de Detecção de Fraude em Cartão de Crédito, iremos utilizar técnicas de Machine Learning para identificar padrões que indiquem transações fraudulentas e prevenir possíveis fraudes. Nós iremos utilizar um modelo de classificação, no caso vou testar dois algoritmos: Regressão Logística e Árvore de Decisão, e ver qual se sai melhor."
      ]
    },
    {
      "cell_type": "markdown",
      "source": [
        "## Modelo - Regressão Logística\n",
        "\n",
        "A Regressão Logística é um algoritmo de aprendizado de máquina que é usado principalmente para resolver problemas de classificação. É uma técnica estatística que permite prever a probabilidade de uma determinada variável pertencer a uma classe específica com base em um conjunto de variáveis independentes. A regressão logística é especialmente útil quando lidamos com problemas binários, ou seja, quando temos que prever se um evento ocorrerá ou não. É amplamente utilizado em diversas áreas, como medicina, finanças, marketing e análise de dados, para tomar decisões e fazer previsões com base em dados disponíveis.\n",
        "\n",
        "<p align=\"center\">\n",
        "<img src=\"https://raw.githubusercontent.com/ferreiramar96/Deteccao-Fraude-Cartao-Credito/main/logistic_regression.png\" width=60%>\n",
        "</p>\n",
        "\n",
        "O modelo de regressão logística aprende com os dados de treinamento e encontra a melhor maneira de combinar essas variáveis para prever se uma transação é fraudulenta ou não. Ele faz isso atribuindo pesos às variáveis e calculando uma pontuação para cada transação.\n",
        "\n",
        "Essa pontuação é então passada por uma função chamada função sigmoid, que transforma a pontuação em uma probabilidade. A função sigmoid retorna um valor entre 0 e 1, representando a probabilidade de uma transação ser fraudulenta, sendo que o seu limite de decisão padrão é 0.5, mas é possível alterar. Por exemplo, um valor próximo de 0,8 significa que há uma alta probabilidade de ser uma transação fraudulenta, pois como está acima de 0,5 ele classifica como 1.\n",
        "\n",
        "Para podermos avaliar o quão bom é nosso modelo, temos algumas métricas:\n",
        "* Acurácia\n",
        "* Matriz de Confusão\n",
        "* Precisão\n",
        "* Recall\n",
        "* F1-Score\n",
        "* AUC\n",
        "\n",
        "Para um projeto de detecção de fraude em cartões, a métrica mais importante para nós é o Recall ou Taxa de Verdadeiros Positivos. Isso porque nosso principal objetivo é identificar corretamente o maior número possível de transações fraudulentas, minimizando os casos em que uma fraude é classificada como normal(Falso Negativo)."
      ],
      "metadata": {
        "id": "BsjAYwSEAWOW"
      }
    },
    {
      "cell_type": "markdown",
      "source": [
        "## Previsão com os Dados de Validação"
      ],
      "metadata": {
        "id": "KsUtOIDtoghr"
      }
    },
    {
      "cell_type": "code",
      "source": [
        "#Instanciando o modelo\n",
        "np.random.seed(2)\n",
        "reg_log = LogisticRegression()\n",
        "\n",
        "#Treinando o modelo\n",
        "reg_log.fit(x_bal, y_bal)\n",
        "\n",
        "#Fazendo previsão com os dados de validação\n",
        "y_predict = reg_log.predict(x_val)\n",
        "y_probability = reg_log.predict_proba(x_val)"
      ],
      "metadata": {
        "id": "6yo9Rpo8oIGO"
      },
      "execution_count": null,
      "outputs": []
    },
    {
      "cell_type": "markdown",
      "source": [
        "Com o nosso modelo já treinado e já feito a previsão, podemos criar um relatório com as métricas de avaliação + a sua matriz de confusão."
      ],
      "metadata": {
        "id": "-IoxJfYTpaP_"
      }
    },
    {
      "cell_type": "code",
      "source": [
        "#Criando o relatório\n",
        "print(f\"Relatório de Classificação:\\n {classification_report(y_val, y_predict, digits=3)}\")\n",
        "print(f\"Acurácia: {accuracy_score(y_val, y_predict):.3f}\\n\")\n",
        "print(f\"AUC: {roc_auc_score(y_val, y_predict):.3f}\")\n",
        "\n",
        "#Criando a matriz de confusão\n",
        "matriz = confusion_matrix(y_val, y_predict, normalize=\"true\")\n",
        "sns.heatmap(matriz, annot=True)\n",
        "plt.xlabel(\"Predict\")\n",
        "plt.ylabel(\"Verdadeiro\")\n",
        "plt.show()"
      ],
      "metadata": {
        "colab": {
          "base_uri": "https://localhost:8080/",
          "height": 675
        },
        "id": "7mGyZRmKp2d2",
        "outputId": "1a102908-bb74-4942-dae8-16803ba02fdb"
      },
      "execution_count": null,
      "outputs": [
        {
          "output_type": "stream",
          "name": "stdout",
          "text": [
            "Relatório de Classificação:\n",
            "               precision    recall  f1-score   support\n",
            "\n",
            "           0      1.000     0.952     0.975     60417\n",
            "           1      0.032     0.933     0.063       105\n",
            "\n",
            "    accuracy                          0.952     60522\n",
            "   macro avg      0.516     0.942     0.519     60522\n",
            "weighted avg      0.998     0.952     0.974     60522\n",
            "\n",
            "Acurácia: 0.952\n",
            "\n",
            "AUC: 0.942\n"
          ]
        },
        {
          "output_type": "display_data",
          "data": {
            "text/plain": [
              "<Figure size 640x480 with 2 Axes>"
            ],
            "image/png": "[encoded data removed]"
          },
          "metadata": {}
        }
      ]
    },
    {
      "cell_type": "markdown",
      "source": [
        "Observando nossas saídas anteriores, podemos tirar alguns conclusões do nosso modelo treinado e aplicado aos nossos dados de validação:\n",
        "* O modelo conseguiu prever 93% dos valores considerados fraudes de forma correta, e isso é um valor incrível.\n",
        "* Tivemos uma acurácia de 95% em nosso modelo\n",
        "* Conseguimos um AUC de 94%\n",
        "\n",
        "Lembrando que todas essas observações feitas anteriormente, quanto mais próximas de 100%, melhores elas são."
      ],
      "metadata": {
        "id": "S3UWuruGzZc-"
      }
    },
    {
      "cell_type": "markdown",
      "source": [
        "## Previsão com os Dados de Teste\n",
        "\n",
        "Lembra que lá no início do projeto, separei uma parcela de 15% dos nossos dados totais iniciais? Não os utilizei em momento algum ao longo de nossas análises, pois separei eles exatamente para podermos testar de verdade o quão bom nosso modelo é, já que esses dados nunca foram vistos pelo modelo.\n",
        "\n",
        "Mas antes de simplesmente aplicarmos esses dados ao nosso modelo treinado, precisavos fazer a padronização neles, já que o nosso modelo foi treinado em uma escala diferente. Então vamos padronizar as colunas `Time` e `Amount` igual feito anteriormente."
      ],
      "metadata": {
        "id": "hj25blZ11NSf"
      }
    },
    {
      "cell_type": "code",
      "source": [
        "#Criando um cópia do DataFrame\n",
        "df_teste = test.copy()\n",
        "\n",
        "#Fazendo a padronização\n",
        "std_scaler = StandardScaler()\n",
        "df_teste[\"std_amount\"] = std_scaler.fit_transform(df_teste[\"Amount\"].values.reshape(-1, 1))\n",
        "df_teste[\"std_time\"] = std_scaler.fit_transform(df_teste[\"Time\"].values.reshape(-1, 1))\n",
        "\n",
        "#Apagando colunas\n",
        "df_teste.drop(columns=[\"Amount\", \"Time\"], axis=1, inplace=True)\n",
        "\n",
        "df_teste.head()"
      ],
      "metadata": {
        "colab": {
          "base_uri": "https://localhost:8080/",
          "height": 300
        },
        "id": "OmI3UDBG3I93",
        "outputId": "beb97d48-4edb-4fb0-dac5-1c99074b35a6"
      },
      "execution_count": null,
      "outputs": [
        {
          "output_type": "execute_result",
          "data": {
            "text/plain": [
              "              V1        V2        V3        V4        V5        V6        V7  \\\n",
              "183484 -0.323334  1.057455 -0.048341 -0.607204  1.259821 -0.091761  1.159101   \n",
              "255448 -0.349718  0.932619  0.142992 -0.657071  1.169784 -0.733369  1.009985   \n",
              "244749 -1.614711 -2.406570  0.326194  0.665520  2.369268 -1.775367 -1.139049   \n",
              "63919  -2.477184  0.860613  1.441850  1.051019 -1.856621  2.078384  0.510828   \n",
              "11475   1.338831 -0.547264  0.737389 -0.212383 -1.110039 -0.525744 -0.801403   \n",
              "\n",
              "              V8        V9       V10  ...       V22       V23       V24  \\\n",
              "183484 -0.124335 -0.174640 -1.644401  ... -0.433890 -0.261613 -0.046651   \n",
              "255448 -0.071069 -0.302083 -1.192404  ... -0.833209 -0.030360  0.490035   \n",
              "244749  0.329904  0.903813 -0.219013  ...  1.134489  0.965054  0.640981   \n",
              "63919  -0.243399 -0.260691  0.133040  ...  0.692245  0.150121 -0.260777   \n",
              "11475  -0.063672  0.997276  0.113386  ... -0.074719  0.067055  0.333122   \n",
              "\n",
              "             V25       V26       V27       V28  Class  std_amount  std_time  \n",
              "183484  0.211512  0.008297  0.108494  0.161139      0   -0.177738  0.658372  \n",
              "255448 -0.404816  0.134350  0.076830  0.175562      0   -0.321945  1.320094  \n",
              "244749 -1.801998 -1.041114  0.286285  0.437322      0    0.034666  1.219742  \n",
              "63919   0.005183 -0.177847 -0.510060 -0.660533      0    0.838765 -0.919236  \n",
              "11475   0.379087 -0.268706 -0.002769  0.003272      0   -0.310490 -1.572827  \n",
              "\n",
              "[5 rows x 31 columns]"
            ],
            "text/html": [
              "\n",
              "  <div id=\"df-aa87ef69-67f2-4653-8ccb-1d711a28bbf9\">\n",
              "    <div class=\"colab-df-container\">\n",
              "      <div>\n",
              "<style scoped>\n",
              "    .dataframe tbody tr th:only-of-type {\n",
              "        vertical-align: middle;\n",
              "    }\n",
              "\n",
              "    .dataframe tbody tr th {\n",
              "        vertical-align: top;\n",
              "    }\n",
              "\n",
              "    .dataframe thead th {\n",
              "        text-align: right;\n",
              "    }\n",
              "</style>\n",
              "<table border=\"1\" class=\"dataframe\">\n",
              "  <thead>\n",
              "    <tr style=\"text-align: right;\">\n",
              "      <th></th>\n",
              "      <th>V1</th>\n",
              "      <th>V2</th>\n",
              "      <th>V3</th>\n",
              "      <th>V4</th>\n",
              "      <th>V5</th>\n",
              "      <th>V6</th>\n",
              "      <th>V7</th>\n",
              "      <th>V8</th>\n",
              "      <th>V9</th>\n",
              "      <th>V10</th>\n",
              "      <th>...</th>\n",
              "      <th>V22</th>\n",
              "      <th>V23</th>\n",
              "      <th>V24</th>\n",
              "      <th>V25</th>\n",
              "      <th>V26</th>\n",
              "      <th>V27</th>\n",
              "      <th>V28</th>\n",
              "      <th>Class</th>\n",
              "      <th>std_amount</th>\n",
              "      <th>std_time</th>\n",
              "    </tr>\n",
              "  </thead>\n",
              "  <tbody>\n",
              "    <tr>\n",
              "      <th>183484</th>\n",
              "      <td>-0.323334</td>\n",
              "      <td>1.057455</td>\n",
              "      <td>-0.048341</td>\n",
              "      <td>-0.607204</td>\n",
              "      <td>1.259821</td>\n",
              "      <td>-0.091761</td>\n",
              "      <td>1.159101</td>\n",
              "      <td>-0.124335</td>\n",
              "      <td>-0.174640</td>\n",
              "      <td>-1.644401</td>\n",
              "      <td>...</td>\n",
              "      <td>-0.433890</td>\n",
              "      <td>-0.261613</td>\n",
              "      <td>-0.046651</td>\n",
              "      <td>0.211512</td>\n",
              "      <td>0.008297</td>\n",
              "      <td>0.108494</td>\n",
              "      <td>0.161139</td>\n",
              "      <td>0</td>\n",
              "      <td>-0.177738</td>\n",
              "      <td>0.658372</td>\n",
              "    </tr>\n",
              "    <tr>\n",
              "      <th>255448</th>\n",
              "      <td>-0.349718</td>\n",
              "      <td>0.932619</td>\n",
              "      <td>0.142992</td>\n",
              "      <td>-0.657071</td>\n",
              "      <td>1.169784</td>\n",
              "      <td>-0.733369</td>\n",
              "      <td>1.009985</td>\n",
              "      <td>-0.071069</td>\n",
              "      <td>-0.302083</td>\n",
              "      <td>-1.192404</td>\n",
              "      <td>...</td>\n",
              "      <td>-0.833209</td>\n",
              "      <td>-0.030360</td>\n",
              "      <td>0.490035</td>\n",
              "      <td>-0.404816</td>\n",
              "      <td>0.134350</td>\n",
              "      <td>0.076830</td>\n",
              "      <td>0.175562</td>\n",
              "      <td>0</td>\n",
              "      <td>-0.321945</td>\n",
              "      <td>1.320094</td>\n",
              "    </tr>\n",
              "    <tr>\n",
              "      <th>244749</th>\n",
              "      <td>-1.614711</td>\n",
              "      <td>-2.406570</td>\n",
              "      <td>0.326194</td>\n",
              "      <td>0.665520</td>\n",
              "      <td>2.369268</td>\n",
              "      <td>-1.775367</td>\n",
              "      <td>-1.139049</td>\n",
              "      <td>0.329904</td>\n",
              "      <td>0.903813</td>\n",
              "      <td>-0.219013</td>\n",
              "      <td>...</td>\n",
              "      <td>1.134489</td>\n",
              "      <td>0.965054</td>\n",
              "      <td>0.640981</td>\n",
              "      <td>-1.801998</td>\n",
              "      <td>-1.041114</td>\n",
              "      <td>0.286285</td>\n",
              "      <td>0.437322</td>\n",
              "      <td>0</td>\n",
              "      <td>0.034666</td>\n",
              "      <td>1.219742</td>\n",
              "    </tr>\n",
              "    <tr>\n",
              "      <th>63919</th>\n",
              "      <td>-2.477184</td>\n",
              "      <td>0.860613</td>\n",
              "      <td>1.441850</td>\n",
              "      <td>1.051019</td>\n",
              "      <td>-1.856621</td>\n",
              "      <td>2.078384</td>\n",
              "      <td>0.510828</td>\n",
              "      <td>-0.243399</td>\n",
              "      <td>-0.260691</td>\n",
              "      <td>0.133040</td>\n",
              "      <td>...</td>\n",
              "      <td>0.692245</td>\n",
              "      <td>0.150121</td>\n",
              "      <td>-0.260777</td>\n",
              "      <td>0.005183</td>\n",
              "      <td>-0.177847</td>\n",
              "      <td>-0.510060</td>\n",
              "      <td>-0.660533</td>\n",
              "      <td>0</td>\n",
              "      <td>0.838765</td>\n",
              "      <td>-0.919236</td>\n",
              "    </tr>\n",
              "    <tr>\n",
              "      <th>11475</th>\n",
              "      <td>1.338831</td>\n",
              "      <td>-0.547264</td>\n",
              "      <td>0.737389</td>\n",
              "      <td>-0.212383</td>\n",
              "      <td>-1.110039</td>\n",
              "      <td>-0.525744</td>\n",
              "      <td>-0.801403</td>\n",
              "      <td>-0.063672</td>\n",
              "      <td>0.997276</td>\n",
              "      <td>0.113386</td>\n",
              "      <td>...</td>\n",
              "      <td>-0.074719</td>\n",
              "      <td>0.067055</td>\n",
              "      <td>0.333122</td>\n",
              "      <td>0.379087</td>\n",
              "      <td>-0.268706</td>\n",
              "      <td>-0.002769</td>\n",
              "      <td>0.003272</td>\n",
              "      <td>0</td>\n",
              "      <td>-0.310490</td>\n",
              "      <td>-1.572827</td>\n",
              "    </tr>\n",
              "  </tbody>\n",
              "</table>\n",
              "<p>5 rows × 31 columns</p>\n",
              "</div>\n",
              "      <button class=\"colab-df-convert\" onclick=\"convertToInteractive('df-aa87ef69-67f2-4653-8ccb-1d711a28bbf9')\"\n",
              "              title=\"Convert this dataframe to an interactive table.\"\n",
              "              style=\"display:none;\">\n",
              "        \n",
              "  <svg xmlns=\"http://www.w3.org/2000/svg\" height=\"24px\"viewBox=\"0 0 24 24\"\n",
              "       width=\"24px\">\n",
              "    <path d=\"M0 0h24v24H0V0z\" fill=\"none\"/>\n",
              "    <path d=\"M18.56 5.44l.94 2.06.94-2.06 2.06-.94-2.06-.94-.94-2.06-.94 2.06-2.06.94zm-11 1L8.5 8.5l.94-2.06 2.06-.94-2.06-.94L8.5 2.5l-.94 2.06-2.06.94zm10 10l.94 2.06.94-2.06 2.06-.94-2.06-.94-.94-2.06-.94 2.06-2.06.94z\"/><path d=\"M17.41 7.96l-1.37-1.37c-.4-.4-.92-.59-1.43-.59-.52 0-1.04.2-1.43.59L10.3 9.45l-7.72 7.72c-.78.78-.78 2.05 0 2.83L4 21.41c.39.39.9.59 1.41.59.51 0 1.02-.2 1.41-.59l7.78-7.78 2.81-2.81c.8-.78.8-2.07 0-2.86zM5.41 20L4 18.59l7.72-7.72 1.47 1.35L5.41 20z\"/>\n",
              "  </svg>\n",
              "      </button>\n",
              "      \n",
              "  <style>\n",
              "    .colab-df-container {\n",
              "      display:flex;\n",
              "      flex-wrap:wrap;\n",
              "      gap: 12px;\n",
              "    }\n",
              "\n",
              "    .colab-df-convert {\n",
              "      background-color: #E8F0FE;\n",
              "      border: none;\n",
              "      border-radius: 50%;\n",
              "      cursor: pointer;\n",
              "      display: none;\n",
              "      fill: #1967D2;\n",
              "      height: 32px;\n",
              "      padding: 0 0 0 0;\n",
              "      width: 32px;\n",
              "    }\n",
              "\n",
              "    .colab-df-convert:hover {\n",
              "      background-color: #E2EBFA;\n",
              "      box-shadow: 0px 1px 2px rgba(60, 64, 67, 0.3), 0px 1px 3px 1px rgba(60, 64, 67, 0.15);\n",
              "      fill: #174EA6;\n",
              "    }\n",
              "\n",
              "    [theme=dark] .colab-df-convert {\n",
              "      background-color: #3B4455;\n",
              "      fill: #D2E3FC;\n",
              "    }\n",
              "\n",
              "    [theme=dark] .colab-df-convert:hover {\n",
              "      background-color: #434B5C;\n",
              "      box-shadow: 0px 1px 3px 1px rgba(0, 0, 0, 0.15);\n",
              "      filter: drop-shadow(0px 1px 2px rgba(0, 0, 0, 0.3));\n",
              "      fill: #FFFFFF;\n",
              "    }\n",
              "  </style>\n",
              "\n",
              "      <script>\n",
              "        const buttonEl =\n",
              "          document.querySelector('#df-aa87ef69-67f2-4653-8ccb-1d711a28bbf9 button.colab-df-convert');\n",
              "        buttonEl.style.display =\n",
              "          google.colab.kernel.accessAllowed ? 'block' : 'none';\n",
              "\n",
              "        async function convertToInteractive(key) {\n",
              "          const element = document.querySelector('#df-aa87ef69-67f2-4653-8ccb-1d711a28bbf9');\n",
              "          const dataTable =\n",
              "            await google.colab.kernel.invokeFunction('convertToInteractive',\n",
              "                                                     [key], {});\n",
              "          if (!dataTable) return;\n",
              "\n",
              "          const docLinkHtml = 'Like what you see? Visit the ' +\n",
              "            '<a target=\"_blank\" href=https://colab.research.google.com/notebooks/data_table.ipynb>data table notebook</a>'\n",
              "            + ' to learn more about interactive tables.';\n",
              "          element.innerHTML = '';\n",
              "          dataTable['output_type'] = 'display_data';\n",
              "          await google.colab.output.renderOutput(dataTable, element);\n",
              "          const docLink = document.createElement('div');\n",
              "          docLink.innerHTML = docLinkHtml;\n",
              "          element.appendChild(docLink);\n",
              "        }\n",
              "      </script>\n",
              "    </div>\n",
              "  </div>\n",
              "  "
            ]
          },
          "metadata": {},
          "execution_count": 193
        }
      ]
    },
    {
      "cell_type": "markdown",
      "source": [
        "Com os dados já prontos, agora vamos novamente fazer as previsões porém agora utilizando os novos dados."
      ],
      "metadata": {
        "id": "w8rqru0f6-ty"
      }
    },
    {
      "cell_type": "code",
      "source": [
        "#Dividir dados entre Treino e Teste\n",
        "x_test = df_teste.drop(columns=\"Class\", axis=1)\n",
        "y_test = df_teste[\"Class\"]\n",
        "\n",
        "#Fazendo previsão com os dados de teste\n",
        "y_predict1 = reg_log.predict(x_test)\n",
        "y_probability1 = reg_log.predict_proba(x_test)[:, 1]"
      ],
      "metadata": {
        "id": "Fq-UYL4c5x3g"
      },
      "execution_count": null,
      "outputs": []
    },
    {
      "cell_type": "code",
      "source": [
        "#Relatório de Classificação Regressão Logística\n",
        "print(f\"Relatório de Classificação:\\n {classification_report(y_test, y_predict1, digits=3)}\")\n",
        "print(f\"Acurácia: {accuracy_score(y_test, y_predict1):.3f}\\n\")\n",
        "print(f\"AUC: {roc_auc_score(y_test, y_predict1):.3f}\")\n",
        "\n",
        "#Criando a matriz de confusão\n",
        "matrix = confusion_matrix(y_test, y_predict1, normalize=\"true\")\n",
        "sns.heatmap(matrix, annot=True)\n",
        "plt.xlabel(\"Predict\")\n",
        "plt.ylabel(\"Verdadeiro\")\n",
        "plt.show()"
      ],
      "metadata": {
        "colab": {
          "base_uri": "https://localhost:8080/",
          "height": 675
        },
        "id": "FTthLt957dS5",
        "outputId": "e6ddecfc-c98c-4dcd-85c3-cc93bc2bf31b"
      },
      "execution_count": null,
      "outputs": [
        {
          "output_type": "stream",
          "name": "stdout",
          "text": [
            "Relatório de Classificação:\n",
            "               precision    recall  f1-score   support\n",
            "\n",
            "           0      1.000     0.953     0.976     42647\n",
            "           1      0.034     0.946     0.066        74\n",
            "\n",
            "    accuracy                          0.953     42721\n",
            "   macro avg      0.517     0.950     0.521     42721\n",
            "weighted avg      0.998     0.953     0.974     42721\n",
            "\n",
            "Acurácia: 0.953\n",
            "\n",
            "AUC: 0.950\n"
          ]
        },
        {
          "output_type": "display_data",
          "data": {
            "text/plain": [
              "<Figure size 640x480 with 2 Axes>"
            ],
            "image/png": "[encoded data removed]"
          },
          "metadata": {}
        }
      ]
    },
    {
      "cell_type": "markdown",
      "source": [
        "## Avaliação Modelo - Regressão Logística\n",
        "\n",
        "Comparando os resultados obtidos pelo nosso modelo de Regressão Logística entre os dados de validação(balanceados) e os dados de teste(desbalanceados), podemos perceber que o modelo manteve sua acurácia de 95%, enquanto teve um aumento na previsão de fraudes, que era 93% e foi para 95%. Pode parecer uma diferença pequena, mas na prática é uma baita diferença, no geral é um ótimo modelo pois os resultados aplicados aos dados que não foram vistos pelo modelo, são bem próximos aos resultados dos dados no qual ele foi treinado.\n"
      ],
      "metadata": {
        "id": "pZ69A5ydot3b"
      }
    },
    {
      "cell_type": "markdown",
      "source": [
        "## Modelo - Árvore de Decisão\n",
        "\n",
        "A árvore de decisão é um algoritmo de aprendizado de máquina que modela relações e tomadas de decisão com base em uma estrutura em forma de árvore. A ideia principal é dividir os dados em subconjuntos cada vez mais específicos, com base em características ou atributos, até que se chegue a uma decisão final ou previsão. Essa estrutura em forma de árvore é composta por nós (ou vértices) e ramos (ou arestas). Cada nó representa um teste em um atributo, e cada ramo representa o resultado desse teste. As folhas da árvore representam as classes ou os valores previstos.\n",
        "\n",
        "<p align=\"center\">\n",
        "<img src=\"https://raw.githubusercontent.com/ferreiramar96/Deteccao-Fraude-Cartao-Credito/main/decision_tree.png\" width=60%>\n",
        "</p>\n",
        "\n",
        "Durante o treinamento da árvore de decisão, o algoritmo busca encontrar as melhores características e pontos de divisão para criar subconjuntos mais puros e distintos possível. Uma das principais vantagens da árvore de decisão é sua interpretabilidade, pois ela permite visualizar e compreender as decisões tomadas em cada nó. Além disso, ela é capaz de lidar com dados categóricos e numéricos e pode ser utilizada para selecionar as características mais importantes.\n",
        "\n",
        "E as principais métricas para avaliar um modelo de Árvore de Decisão, são os mesmos da Regressão Losgística, eles são padrões para todos os algoritmos de classificação, agora qual será mais importante...isso depende do problema."
      ],
      "metadata": {
        "id": "IJwTE_wW1_kJ"
      }
    },
    {
      "cell_type": "markdown",
      "source": [
        "## Previsão com os Dados de Validação"
      ],
      "metadata": {
        "id": "lHmO5q9dZw6-"
      }
    },
    {
      "cell_type": "code",
      "source": [
        "#Instanciando o modelo\n",
        "np.random.seed(2)\n",
        "arv_dec = DecisionTreeClassifier(max_depth=3)\n",
        "\n",
        "#Treinando o modelo\n",
        "arv_dec.fit(x_bal, y_bal)\n",
        "\n",
        "#Fazendo as previsões com os dados de validação\n",
        "y_predict = arv_dec.predict(x_val)\n",
        "y_probability = arv_dec.predict_proba(x_val)"
      ],
      "metadata": {
        "id": "sHGF-9j9YeLZ"
      },
      "execution_count": null,
      "outputs": []
    },
    {
      "cell_type": "markdown",
      "source": [
        "Acima treinei e fiz as previsões utilizando nosso modelo de Árvore de Decisão. Fiz alguns testes utilizando alguns hiperparâmetro para tentar melhorar o resuldado do modelo e o melhor que encontrei foi o `max_depth`, esse parâmetro consiste em limitar a profundidade máxima da árvore. A profundidade de uma árvore de decisão refere-se ao número de níveis ou camadas de nós, a partir do nó raiz até os nós folha.\n",
        "\n",
        "E após alguns testes, esse foi o melhor resultado obtido. Vamos ver:"
      ],
      "metadata": {
        "id": "PIlFGWrbdLVT"
      }
    },
    {
      "cell_type": "code",
      "source": [
        "#Criando o relatório\n",
        "print(f\"Relatório de Classificação:\\n {classification_report(y_val, y_predict, digits=3)}\")\n",
        "print(f\"Acurácia: {accuracy_score(y_val, y_predict):.3f}\\n\")\n",
        "print(f\"AUC: {roc_auc_score(y_val, y_predict):.3f}\")\n",
        "\n",
        "matriz = confusion_matrix(y_val, y_predict, normalize='true')\n",
        "sns.heatmap(matriz, annot=True)\n",
        "plt.xlabel(\"Predict\")\n",
        "plt.ylabel(\"Verdadeiro\")\n",
        "plt.show()"
      ],
      "metadata": {
        "colab": {
          "base_uri": "https://localhost:8080/",
          "height": 675
        },
        "id": "fQJuqMxGdHhH",
        "outputId": "fb0cacfc-62af-433a-f59e-476b951e963b"
      },
      "execution_count": null,
      "outputs": [
        {
          "output_type": "stream",
          "name": "stdout",
          "text": [
            "Relatório de Classificação:\n",
            "               precision    recall  f1-score   support\n",
            "\n",
            "           0      1.000     0.935     0.966     60417\n",
            "           1      0.024     0.924     0.047       105\n",
            "\n",
            "    accuracy                          0.935     60522\n",
            "   macro avg      0.512     0.929     0.507     60522\n",
            "weighted avg      0.998     0.935     0.965     60522\n",
            "\n",
            "Acurácia: 0.935\n",
            "\n",
            "AUC: 0.929\n"
          ]
        },
        {
          "output_type": "display_data",
          "data": {
            "text/plain": [
              "<Figure size 640x480 with 2 Axes>"
            ],
            "image/png": "[encoded data removed]"
          },
          "metadata": {}
        }
      ]
    },
    {
      "cell_type": "markdown",
      "source": [
        "## Previsão com os Dados de Teste"
      ],
      "metadata": {
        "id": "fS5ePiDagRDf"
      }
    },
    {
      "cell_type": "code",
      "source": [
        "#Fazer as previsões com os dados de teste\n",
        "y_predict2 = arv_dec.predict(x_test)\n",
        "y_probability2 = arv_dec.predict_proba(x_test)[:, 1]"
      ],
      "metadata": {
        "id": "Aa9BiHQ6gbBL"
      },
      "execution_count": null,
      "outputs": []
    },
    {
      "cell_type": "code",
      "source": [
        "#Relatório de Classificação Árvore de Decisão\n",
        "print(f\"Relatório de Classificação:\\n {classification_report(y_test, y_predict2, digits=3)}\")\n",
        "print(f\"Acurácia: {accuracy_score(y_test, y_predict2):.3f}\\n\")\n",
        "print(f\"AUC: {roc_auc_score(y_test, y_predict2):.3f}\")\n",
        "\n",
        "#Criando a matriz de confusão\n",
        "matrix = confusion_matrix(y_test, y_predict2, normalize=\"true\")\n",
        "sns.heatmap(matrix, annot=True)\n",
        "plt.xlabel(\"Predict\")\n",
        "plt.ylabel(\"Verdadeiro\")\n",
        "plt.show()"
      ],
      "metadata": {
        "colab": {
          "base_uri": "https://localhost:8080/",
          "height": 675
        },
        "id": "BrpjfYD0hDXr",
        "outputId": "51ab825e-35d0-44bf-a005-2558874c41c6"
      },
      "execution_count": null,
      "outputs": [
        {
          "output_type": "stream",
          "name": "stdout",
          "text": [
            "Relatório de Classificação:\n",
            "               precision    recall  f1-score   support\n",
            "\n",
            "           0      1.000     0.935     0.966     42647\n",
            "           1      0.024     0.905     0.046        74\n",
            "\n",
            "    accuracy                          0.935     42721\n",
            "   macro avg      0.512     0.920     0.506     42721\n",
            "weighted avg      0.998     0.935     0.965     42721\n",
            "\n",
            "Acurácia: 0.935\n",
            "\n",
            "AUC: 0.920\n"
          ]
        },
        {
          "output_type": "display_data",
          "data": {
            "text/plain": [
              "<Figure size 640x480 with 2 Axes>"
            ],
            "image/png": "[encoded data removed]"
          },
          "metadata": {}
        }
      ]
    },
    {
      "cell_type": "markdown",
      "source": [
        "Como puderam reparar, a parte de treinamento, predict, relatório de classificação e matriz de confusão são iguais em ambos os modelos. Finalizado os 2 modelos, agora irei criar um gráfico de da curva ROC para podermos comparar os 2 e ver qual se saiu melhor para podermos definir qual será utilizado.\n",
        "\n",
        "<hr>"
      ],
      "metadata": {
        "id": "bxWwtBolhkch"
      }
    },
    {
      "cell_type": "markdown",
      "source": [
        "# Curva ROC\n",
        "\n",
        "A curva ROC (Receiver Operating Characteristic) é uma ferramenta de avaliação de desempenho de modelos de classificação binária. Ela representa graficamente a taxa de verdadeiros positivos em relação à taxa de falsos positivos, variando o ponto de corte da classificação. A área sob a curva (AUC-ROC) é um indicador do poder discriminativo do modelo, com valores próximos de 1 indicando um bom desempenho.\n",
        "\n",
        "A curva ROC auxilia na escolha do ponto de corte ideal para equilibrar a sensibilidade e especificidade do modelo. É amplamente utilizada na seleção e comparação de modelos de classificação.\n",
        "\n",
        "Quanto mais próximo do canto superior esquerdo melhor, e o AUC que já calculamos anteriormente é a área abaixo dessa curva que iremos criar, quanto maior for a área melhor será o nosso modelo. Então sabendo dessas informações, vamos comparar a Regressão Logística e a Árvore de Decisão que foram aplicadas para esse problema de Detecção de Fraude de Cartão de Crédito e ver qual se sai melhor."
      ],
      "metadata": {
        "id": "HGFO1cajinan"
      }
    },
    {
      "cell_type": "code",
      "source": [
        "# Calculando as taxas de verdadeiros positivos e falsos positivos para cada modelo\n",
        "fpr_modelo1, tpr_modelo1, _ = roc_curve(y_test, y_probability1)\n",
        "fpr_modelo2, tpr_modelo2, _ = roc_curve(y_test, y_probability2)\n",
        "\n",
        "#Imprimindo o AUC\n",
        "print(f\"AUC - Regressão Logística: {roc_auc_score(y_test, y_predict1):.2f}\")\n",
        "print(f\"AUC - Árvore de Decisão: {roc_auc_score(y_test, y_predict2):.2f}\")\n",
        "print(\"---------------------------------\")\n",
        "\n",
        "# Plotando a curva ROC para cada modelo\n",
        "plt.figure(figsize=(7, 5))\n",
        "plt.plot(fpr_modelo1, tpr_modelo1, label='Regressão Logística')\n",
        "plt.plot(fpr_modelo2, tpr_modelo2, label='Árvore de Decisão')\n",
        "plt.plot([0, 1], [0, 1], 'k--')\n",
        "\n",
        "# Incluindo uma legenda e rótulos nos eixos\n",
        "plt.legend(loc='lower right')\n",
        "plt.xlabel('Taxa de Falsos Positivos')\n",
        "plt.ylabel('Taxa de Verdadeiros Positivos')\n",
        "plt.show()"
      ],
      "metadata": {
        "id": "8dgkQ7CZm62o",
        "colab": {
          "base_uri": "https://localhost:8080/",
          "height": 517
        },
        "outputId": "1fa23445-4808-4476-b373-d66bc4e892fe"
      },
      "execution_count": null,
      "outputs": [
        {
          "output_type": "stream",
          "name": "stdout",
          "text": [
            "AUC - Regressão Logística: 0.95\n",
            "AUC - Árvore de Decisão: 0.92\n",
            "---------------------------------\n"
          ]
        },
        {
          "output_type": "display_data",
          "data": {
            "text/plain": [
              "<Figure size 700x500 with 1 Axes>"
            ],
            "image/png": "[encoded data removed]"
          },
          "metadata": {}
        }
      ]
    },
    {
      "cell_type": "markdown",
      "metadata": {
        "id": "3e4ENOTYSUXi"
      },
      "source": [
        "## Comparando os Modelos\n",
        "\n",
        "Observando e comparando nossos 2 modelos, ao observar o gráfico da `Curva ROC` podemos ver que o modelo de Regressão Logística é melhor já que ele foi o mais próximo de 1, porém não basta avaliar somente uma métrica. Neste problema de negócio em questão existe uma outra métrica muito importante, que é o `Recall`.\n",
        "\n",
        "O recall é uma métrica muito importante porque ele mede a capacidade do modelo em identificar corretamente as transações fraudulentas. Em um cenário de detecção de fraudes, é fundamental minimizar os casos em que uma transação fraudulenta é classificada como legítima (falso negativo), pois isso representa uma perda financeira para as instituições e os clientes.\n",
        "\n",
        "Então podemos dizer que nosso modelo de `Regressão Logística` é o melhor modelo para o problema em questão, apresentando um Recall de 95%, em contra partida o Recall da `Árvore de Decisão` de 91% inferior ao do outro modelo. **O algoritmo de Regressão Logística venceu na curva ROC e no recall, e é por isso que ele acaba sendo o melhor.**"
      ]
    },
    {
      "cell_type": "markdown",
      "metadata": {
        "id": "0Bj7zRZMSfO7"
      },
      "source": [
        "## Conclusão\n",
        "\n",
        "Ao final de nosso projeto, podemos tirar algumas conclusões sobre como tudo foi feito e pensado. E alguns desses pontos são:\n",
        "\n",
        "* Antes de qualquer coisa foi preciso entender qual era o problema que iríamos resolver, compreender as variáveis e as transformações que foram feitas para que nenhum dado dos clientes seja vazado ou descoberto.\n",
        "\n",
        "* Em relação aos dados, comecei separando uma porção de 15% dos dados originais para poder aplicar ao modelo de machine learning ao final do projeto e ver o quão bom nosso modelo chega a ser, aplicando dados nunca visto por ele antes.\n",
        "\n",
        "* Depois realizamos uma análise exploratória dos dados, vendo algumas descrições estatísticas, como: média, mediana, desvio padrão e quartis. Plotamos também alguns histogramas e boxplots, para observar a distribuição dos dados e identificarmos valores outliers.\n",
        "\n",
        "* Em seguida começamos a fazer a preparação dos dados para aplicarmos os modelos de Machine Learning, e fizemos algumas trasformações como: padronização de algumas variáveis, separação dos dados para aplicar ao modelo e rebalancear as classes.\n",
        "\n",
        "* E já partimos para a construção de nossos modelos, utilizei 2 algoritmos: Regressão Logística e Árvore de Decisão. Para os dois fiz as seguintes etapas: Treinei o modelo, apliquei dados de validação e depois apliquei os dados de teste, que como mencionado anteriormente nunca foram vistos pelo modelo. Então a partir dai construí um Relatório de Classificação e a Matriz de Confusão para cada modelo. Esse relatório consiste em algumas métricas para avaliar o desempenho do algoritmo e a matriz é para visualizarmos a porcentagem de `True Positive`, `True Negative`, `False Positive` e `False Negative`. E fiz também um gráfico representando a curva ROC, no qual é possível ver qual algoritmo se saiu melhor.\n",
        "\n",
        "* E para finalizar, realizei a comparação entre os 2 algoritmos. E após as análises e explicações, **o melhor modelo para o nosso projeto em questão foi o de Regressão Logística.**"
      ]
    }
  ]
}